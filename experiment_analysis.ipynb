{
 "cells": [
  {
   "cell_type": "markdown",
   "source": [
    "# Experiment Mesh Analysis\n"
   ],
   "metadata": {
    "collapsed": false
   },
   "id": "c1ecc4b83731736b"
  },
  {
   "cell_type": "code",
   "execution_count": 1,
   "outputs": [],
   "source": [
    "# external imports\n",
    "import pandas as pd\n",
    "from ast import literal_eval\n",
    "from shapely import (\n",
    "    from_geojson\n",
    ")"
   ],
   "metadata": {
    "collapsed": false,
    "ExecuteTime": {
     "end_time": "2024-04-02T08:41:48.826131Z",
     "start_time": "2024-04-02T08:41:48.609581Z"
    }
   },
   "id": "c8df69fe46cac602"
  },
  {
   "cell_type": "code",
   "execution_count": 2,
   "outputs": [],
   "source": [
    "# internal imports\n",
    "from src.utils.common_functions import (\n",
    "    json_file_to_dict,\n",
    "    get_list_files_in_path,\n",
    ")\n",
    "from src.utils.constants import (\n",
    "    EEE_COUNTRIES_FILEPATH,\n",
    "    REPLICATION_PACKAGE_DIR,\n",
    "    TRAFFIC_LOGS_IP_CLASSIFIED_FILEPATH,\n",
    "    ANYCAST_PII_TRAFFIC_LOGS_FILEPATH,\n",
    "    APKS_METADATA_FILEPATH,\n",
    "    RESULTS_MODES,\n",
    "    IT_ANNOTATION_FILEPATH,\n",
    "    TPLS_RESULTS_FILEPATH,\n",
    "    ANYCAST_IP_CLASSIFICATION_FILEPATH\n",
    ")"
   ],
   "metadata": {
    "collapsed": false,
    "ExecuteTime": {
     "end_time": "2024-04-02T08:41:48.840358Z",
     "start_time": "2024-04-02T08:41:48.827340Z"
    }
   },
   "id": "69d16f8da4f9071f"
  },
  {
   "cell_type": "code",
   "execution_count": 3,
   "outputs": [],
   "source": [
    "# Constants\n",
    "EEE_countries_set = set([country[\"alpha-2\"] for country in json_file_to_dict(EEE_COUNTRIES_FILEPATH)])"
   ],
   "metadata": {
    "collapsed": false,
    "ExecuteTime": {
     "end_time": "2024-04-02T08:41:48.855654Z",
     "start_time": "2024-04-02T08:41:48.841230Z"
    }
   },
   "id": "adb458e6157c0f69"
  },
  {
   "cell_type": "code",
   "execution_count": 4,
   "outputs": [],
   "source": [
    "# Analysis params\n",
    "DESTINATION_REPETITIONS_LIMIT = 1\n",
    "ANALYSIS_MODE=RESULTS_MODES[0]\n",
    "GENERATE_ROUTES_DATA=False\n",
    "ANALYZE_DATA = False"
   ],
   "metadata": {
    "collapsed": false,
    "ExecuteTime": {
     "end_time": "2024-04-02T08:41:48.865928Z",
     "start_time": "2024-04-02T08:41:48.856854Z"
    }
   },
   "id": "690c1391498feefb"
  },
  {
   "cell_type": "code",
   "execution_count": 5,
   "outputs": [],
   "source": [
    "# Filepaths variables\n",
    "EXPERIMENT_RESULTS_FOLDER = f\"{REPLICATION_PACKAGE_DIR}/experiment_results_{ANALYSIS_MODE}\"\n",
    "ANALYSIS_FOLDER = f\"{REPLICATION_PACKAGE_DIR}/analysis_{ANALYSIS_MODE}\"\n",
    "\n",
    "ROUTES_RESULTS_FILENAME = f\"{ANALYSIS_FOLDER}/routes_results_{ANALYSIS_MODE}.csv\"\n",
    "ROUTES_FREQUENCY_FILENAME = f\"{ANALYSIS_FOLDER}/routes_frequency_{ANALYSIS_MODE}.csv\"\n",
    "\n",
    "ANYCAST_PII_TRAFFIC_LOGS_ANALYSIS_FILEPATH = f\"{REPLICATION_PACKAGE_DIR}/analysis_{ANALYSIS_MODE}/Anycast_PII_Traffic_Logs_{ANALYSIS_MODE}.csv\"\n",
    "TRAFFIC_LOGS_IP_CLASSIFIED_ANALYSIS_FILEPATH = f\"{REPLICATION_PACKAGE_DIR}/analysis_{ANALYSIS_MODE}/Traffic_logs_10K_ip_classified_{ANALYSIS_MODE}.csv\"\n",
    "\n",
    "ANYCAST_PII_HOST_AGGREGATION_FILEPATH = f\"{REPLICATION_PACKAGE_DIR}/analysis_{ANALYSIS_MODE}/Anycast_PII_host_aggregation_{ANALYSIS_MODE}.csv\"\n",
    "TRAFFIC_LOGS_IP_CLASSIFIED_HOST_AGGREGATION_FILEPATH = f\"{REPLICATION_PACKAGE_DIR}/analysis_{ANALYSIS_MODE}/Traffic_logs_10K_ip_classified_host_aggregation_{ANALYSIS_MODE}.csv\"\n"
   ],
   "metadata": {
    "collapsed": false,
    "ExecuteTime": {
     "end_time": "2024-04-02T08:41:48.876891Z",
     "start_time": "2024-04-02T08:41:48.866638Z"
    }
   },
   "id": "759dc69c48ceb4bd"
  },
  {
   "cell_type": "markdown",
   "source": [
    "## Enrichment of data and generation of datasets"
   ],
   "metadata": {
    "collapsed": false
   },
   "id": "50b5569c9c01bcd1"
  },
  {
   "cell_type": "markdown",
   "source": [
    "Auxiliar just if needed"
   ],
   "metadata": {
    "collapsed": false
   },
   "id": "ee77ee73a524612d"
  },
  {
   "cell_type": "code",
   "outputs": [],
   "source": [
    "def populate_dataframe_with_ip_classification(dataframe: pd.DataFrame) -> pd.DataFrame:\n",
    "    ips_classified = json_file_to_dict(ANYCAST_IP_CLASSIFICATION_FILEPATH)\n",
    "\n",
    "    for ip_classified in ips_classified.keys():\n",
    "        dataframe.loc[dataframe[\"ip_dest\"] == ip_classified, \"ip_anycast\"] = ips_classified[ip_classified]\n",
    "    \n",
    "    return dataframe    "
   ],
   "metadata": {
    "collapsed": false,
    "ExecuteTime": {
     "end_time": "2024-04-02T08:41:48.892151Z",
     "start_time": "2024-04-02T08:41:48.877911Z"
    }
   },
   "id": "1c22e353dec78f8b",
   "execution_count": 6
  },
  {
   "cell_type": "markdown",
   "source": [
    "Generate a file with all the routes got as the result of the experiment execution"
   ],
   "metadata": {
    "collapsed": false
   },
   "id": "829bbc8293d73e11"
  },
  {
   "cell_type": "code",
   "execution_count": 7,
   "outputs": [],
   "source": [
    "# Auxiliary functions\n",
    "def get_probe_location(probe_id: int, origin_list: []) -> (float, float):\n",
    "    for origin in origin_list:\n",
    "        if probe_id == origin[\"probe_id\"]:\n",
    "            location = from_geojson(origin[\"location\"])\n",
    "            return location.y, location.x\n",
    "        else:\n",
    "            continue\n",
    "    return 0, 0\n",
    "\n",
    "def get_result_country_route(hunter_result: dict) -> dict:\n",
    "    probe_id = hunter_result[\"origin_id\"]\n",
    "    result_country = hunter_result[\"location_result\"][\"country\"]\n",
    "    probe_country = hunter_result[\"origin_country_code\"]\n",
    "\n",
    "    return {\n",
    "        \"origin_id\": probe_id,\n",
    "        \"origin_country\": probe_country,\n",
    "        \"result_country\": result_country\n",
    "    }\n",
    "\n",
    "# Data generation function\n",
    "def generate_routes_raw():\n",
    "    routes_raw_df = pd.DataFrame(\n",
    "        columns=[\n",
    "            \"target\", \"probe_id\", \"ips_previous_to_target\",\n",
    "            \"origin_country\", \"origin_latitude\", \"origin_longitude\", \n",
    "            \"result_country\", \"result_latitude\", \"result_longitude\",\n",
    "            \"result_filename\", \"outside_EEE\"\n",
    "        ]\n",
    "    )\n",
    "    for result_filename in get_list_files_in_path(EXPERIMENT_RESULTS_FOLDER):\n",
    "        print(result_filename)\n",
    "        result = json_file_to_dict(f\"{EXPERIMENT_RESULTS_FOLDER}/{result_filename}\")\n",
    "        target = result[\"target\"]\n",
    "        origin_list = result[\"measurements\"][\"origin\"]\n",
    "        for hunter_result in result[\"hunter_results\"]:\n",
    "            route = get_result_country_route(hunter_result)\n",
    "            probe_id = hunter_result[\"origin_id\"]\n",
    "            origin_country = route[\"origin_country\"]\n",
    "            origin_latitude, origin_longitude = get_probe_location(probe_id, origin_list)\n",
    "            \n",
    "            result_country = route[\"result_country\"]\n",
    "            if len(hunter_result[\"location_result\"][\"airports_intersection\"]) == 1:\n",
    "                result_location = from_geojson(hunter_result[\"location_result\"][\"airports_intersection\"][0][\"location\"])\n",
    "                result_latitude = result_location.y\n",
    "                result_longitude = result_location.x\n",
    "            else:\n",
    "                result_latitude = 0\n",
    "                result_longitude = 0\n",
    "                \n",
    "            outside_eee = (result_country not in EEE_countries_set) and (result_country != \"Indeterminate\")\n",
    "            \n",
    "            if result_country == \"Indeterminate\":\n",
    "                ips_previous_to_target = [\"Indeterminate\"]\n",
    "            else:\n",
    "                ips_previous_to_target = [\n",
    "                    ip[\"ip\"]\n",
    "                    for ip in hunter_result[\"ips_previous_to_target\"]\n",
    "                ]\n",
    "            \n",
    "            routes_raw_df = pd.concat(\n",
    "                [pd.DataFrame([[\n",
    "                    target, probe_id, str(ips_previous_to_target),\n",
    "                    origin_country, origin_latitude, origin_longitude, \n",
    "                    result_country, result_latitude, result_longitude,\n",
    "                    result_filename, outside_eee\n",
    "                ]], columns=routes_raw_df.columns), routes_raw_df], \n",
    "                ignore_index=True\n",
    "            )\n",
    "    # Sort and save\n",
    "    routes_raw_df.sort_values(by=[\"target\", \"origin_country\", \"result_country\"], inplace=True)\n",
    "    routes_raw_df.to_csv(ROUTES_RESULTS_FILENAME, sep=\",\", index=False)\n"
   ],
   "metadata": {
    "collapsed": false,
    "ExecuteTime": {
     "end_time": "2024-04-02T08:41:48.903574Z",
     "start_time": "2024-04-02T08:41:48.893147Z"
    }
   },
   "id": "3a4a5ff135ebc9cc"
  },
  {
   "cell_type": "markdown",
   "source": [
    "Aggregate and count routes repetitions"
   ],
   "metadata": {
    "collapsed": false
   },
   "id": "2905481c5a38b1ac"
  },
  {
   "cell_type": "code",
   "outputs": [],
   "source": [
    "# Data generation function\n",
    "def generate_routes_frequency_aggregation():\n",
    "    # Aggregate routes counting the repetitions\n",
    "    routes_frequency_df = pd.read_csv(ROUTES_RESULTS_FILENAME, sep=\",\")\n",
    "    routes_frequency_df = routes_frequency_df[[\"target\", \"origin_country\", \"result_country\"]]\n",
    "    routes_frequency_df = routes_frequency_df.value_counts(subset=['target', 'origin_country', 'result_country'])\n",
    "    routes_frequency_df.to_csv(ROUTES_FREQUENCY_FILENAME, sep=\",\")\n",
    "    \n",
    "    # Include the info about outside the EEE\n",
    "    routes_frequency_df = pd.read_csv(ROUTES_FREQUENCY_FILENAME, sep=\",\")\n",
    "    routes_frequency_df[\"outside_EEE\"] = False\n",
    "    \n",
    "    routes_frequency_df.loc[\n",
    "        (routes_frequency_df[\"result_country\"] != \"Indeterminate\") &\n",
    "        (~routes_frequency_df[\"result_country\"].isin(EEE_countries_set)),\n",
    "        [\"outside_EEE\"]\n",
    "    ] = True\n",
    "    routes_frequency_df.to_csv(ROUTES_FREQUENCY_FILENAME, sep=\",\", index=False)\n"
   ],
   "metadata": {
    "collapsed": false,
    "ExecuteTime": {
     "end_time": "2024-04-02T08:41:48.919331Z",
     "start_time": "2024-04-02T08:41:48.904393Z"
    }
   },
   "id": "1ef13530479b1cbb",
   "execution_count": 8
  },
  {
   "cell_type": "markdown",
   "source": [
    "Introduce routes outside EEE and its count in the complete dataset"
   ],
   "metadata": {
    "collapsed": false
   },
   "id": "b51ebb6a53d3489d"
  },
  {
   "cell_type": "code",
   "outputs": [],
   "source": [
    "# Dataset population function\n",
    "def populate_dataset_with_routes_results(dataframe: pd.DataFrame) -> pd.DataFrame:\n",
    "    routes_valid_df = pd.read_csv(ROUTES_FREQUENCY_FILENAME, sep=\",\")\n",
    "    routes_valid_df = routes_valid_df.loc[\n",
    "        (routes_valid_df[\"outside_EEE\"] == True) & \n",
    "        (routes_valid_df[\"count\"] >= DESTINATION_REPETITIONS_LIMIT)\n",
    "    ]\n",
    "\n",
    "    # Charge default routes in the dataset to populate\n",
    "    dataframe[\"origins_transfers_outside_EEE\"] = \"[]\"\n",
    "    dataframe[\"destinations_transfers_outside_EEE\"] = \"[]\"\n",
    "    dataframe[\"frequency_transfers_outside_EEE\"] = \"[]\"\n",
    "    dataframe[\"outside_EEE\"] = False\n",
    "    \n",
    "    # For every IP get the list of origins, destinations and frequency and save it\n",
    "    for ip in routes_valid_df[\"target\"].unique().tolist():\n",
    "        ip_routes = routes_valid_df.loc[routes_valid_df[\"target\"] == ip]\n",
    "        origins_transfers_outside_eee = ip_routes[\"origin_country\"].values.tolist()\n",
    "        destinations_transfers_outside_eee = ip_routes[\"result_country\"].values.tolist()\n",
    "        frequency_transfers_outside_eee = ip_routes[\"count\"].values.tolist()\n",
    "\n",
    "        dataframe.loc[\n",
    "            (dataframe[\"ip_dest\"] == ip), \n",
    "            [\"origins_transfers_outside_EEE\", \n",
    "             \"destinations_transfers_outside_EEE\", \n",
    "             \"frequency_transfers_outside_EEE\",\n",
    "             \"outside_EEE\"]\n",
    "        ] = [str(origins_transfers_outside_eee),\n",
    "             str(destinations_transfers_outside_eee),\n",
    "             str(frequency_transfers_outside_eee),\n",
    "             True]\n",
    "    \n",
    "    return dataframe\n"
   ],
   "metadata": {
    "collapsed": false,
    "ExecuteTime": {
     "end_time": "2024-04-02T08:41:48.934989Z",
     "start_time": "2024-04-02T08:41:48.920195Z"
    }
   },
   "id": "c5fdd5566a17a165",
   "execution_count": 9
  },
  {
   "cell_type": "markdown",
   "source": [
    "Populate the datasets with metadata info"
   ],
   "metadata": {
    "collapsed": false
   },
   "id": "f4e872e6e4f5f347"
  },
  {
   "cell_type": "code",
   "outputs": [],
   "source": [
    "def populate_dataset_with_apks_metadata(dataframe: pd.DataFrame) -> pd.DataFrame:\n",
    "    apk_metadata_df = pd.read_csv(APKS_METADATA_FILEPATH, sep=\",\")\n",
    "    \n",
    "    return dataframe.merge(\n",
    "        apk_metadata_df,\n",
    "        on=[\"apk\", \"version\"],\n",
    "        how=\"left\"\n",
    "    )\n"
   ],
   "metadata": {
    "collapsed": false,
    "ExecuteTime": {
     "end_time": "2024-04-02T08:41:48.950009Z",
     "start_time": "2024-04-02T08:41:48.936989Z"
    }
   },
   "id": "6b1c5cf65806854e",
   "execution_count": 10
  },
  {
   "cell_type": "markdown",
   "source": [
    "Populate the datasets with the info extrated from every policy"
   ],
   "metadata": {
    "collapsed": false
   },
   "id": "cce1d5fd8c0c621b"
  },
  {
   "cell_type": "code",
   "outputs": [],
   "source": [
    "def populate_dataset_with_policy_extracted_info(dataframe: pd.DataFrame) -> pd.DataFrame:\n",
    "    it_annotation_results_df = pd.read_csv(IT_ANNOTATION_FILEPATH, sep=\",\")\n",
    "    \n",
    "    it_annotation_results_df.drop_duplicates([\"apk\", \"countries\"], inplace=True)\n",
    "    it_annotation_results_df.rename(\n",
    "        columns={\n",
    "            \"transfer\": \"it_mentioned_by_policy\",\n",
    "            \"adequacy_decision\": \"adequacy_decision_by_policy\",\n",
    "            \"countries\": \"countries_mentioned_by_policy\"\n",
    "        },\n",
    "        inplace=True\n",
    "    )\n",
    "    \n",
    "    dataframe = pd.merge(\n",
    "        dataframe,\n",
    "        it_annotation_results_df[[\n",
    "            \"apk\", \"version\", \n",
    "            \"it_mentioned_by_policy\", \"adequacy_decision_by_policy\", \"countries_mentioned_by_policy\"\n",
    "        ]], \n",
    "        on=[\"apk\", \"version\"],\n",
    "        how=\"left\"\n",
    "    )\n",
    "\n",
    "    dataframe.fillna(\n",
    "        value={\n",
    "            \"it_mentioned_by_policy\": False,\n",
    "            \"adequacy_decision_by_policy\": False,\n",
    "            \"countries_mentioned_by_policy\": \"[]\"\n",
    "        },\n",
    "        inplace=True\n",
    "    )    \n",
    "    return dataframe\n",
    "    "
   ],
   "metadata": {
    "collapsed": false,
    "ExecuteTime": {
     "end_time": "2024-04-02T08:41:48.961096Z",
     "start_time": "2024-04-02T08:41:48.950784Z"
    }
   },
   "id": "4b79f08eb4c84797",
   "execution_count": 11
  },
  {
   "cell_type": "markdown",
   "source": [
    "Populate the datasets with the info about the libraries which carried out the communication "
   ],
   "metadata": {
    "collapsed": false
   },
   "id": "da2d74b9a83b5b19"
  },
  {
   "cell_type": "code",
   "outputs": [],
   "source": [
    "def populate_dataset_with_libraries_data(dataframe: pd.DataFrame) -> pd.DataFrame:\n",
    "    tpls_results_df = pd.read_csv(TPLS_RESULTS_FILEPATH, sep=\",\")\n",
    "    tpls_results_df.fillna(\n",
    "        {\n",
    "            \"TP-performed\": False,\n",
    "            \"TP-library\": \"None\",\n",
    "            \"FP-intended\": False,\n",
    "        }, inplace=True\n",
    "    )\n",
    "    \n",
    "    dataframe = pd.merge(\n",
    "        dataframe,\n",
    "        tpls_results_df[[\n",
    "            \"apk\", \"version\", \"port_source\", \"host\", \"port_dest\", \"ip_dest\",\n",
    "            \"TP-performed\", \"TP-library\", \"FP-intended\"\n",
    "        ]],\n",
    "        on=[\"apk\", \"version\", \"port_source\", \"host\", \"port_dest\", \"ip_dest\"],\n",
    "        how=\"left\"\n",
    "    )\n",
    "\n",
    "    return dataframe"
   ],
   "metadata": {
    "collapsed": false,
    "ExecuteTime": {
     "end_time": "2024-04-02T08:41:48.975829Z",
     "start_time": "2024-04-02T08:41:48.961959Z"
    }
   },
   "id": "f4c048778787baae",
   "execution_count": 12
  },
  {
   "cell_type": "markdown",
   "source": [
    "Check GDPR compliance in terms of international transfers"
   ],
   "metadata": {
    "collapsed": false
   },
   "id": "a790c34e9a0bfc98"
  },
  {
   "cell_type": "code",
   "outputs": [],
   "source": [
    "def check_apk_it_gdpr_compliance(dataframe: pd.DataFrame) -> pd.DataFrame:\n",
    "    dataframe[\"apk_it_gdpr_compliance\"] = True\n",
    "    \n",
    "    dataframe[\"apk_it_gdpr_compliance\"] = dataframe.apply(\n",
    "        lambda row_to_check: \n",
    "        set(literal_eval(row_to_check[\"destinations_transfers_outside_EEE\"])).issubset(\n",
    "            set(literal_eval(row_to_check[\"countries_mentioned_by_policy\"]))\n",
    "        ),\n",
    "        axis=1\n",
    "    )\n",
    "    \n",
    "    return dataframe\n",
    "        "
   ],
   "metadata": {
    "collapsed": false,
    "ExecuteTime": {
     "end_time": "2024-04-02T08:41:48.986385Z",
     "start_time": "2024-04-02T08:41:48.976751Z"
    }
   },
   "id": "918ecd5bac3f9b42",
   "execution_count": 13
  },
  {
   "cell_type": "markdown",
   "source": [
    "Aggregation of apk and destination IP by domain or host"
   ],
   "metadata": {
    "collapsed": false
   },
   "id": "88534750de51daa3"
  },
  {
   "cell_type": "code",
   "execution_count": 14,
   "outputs": [],
   "source": [
    "def aggregate_by_domain(dataframe: pd.DataFrame, filepath: str):\n",
    "    group_df = dataframe[[\"host\", \"ip_dest\", \"apk\"]]\n",
    "    group_df = group_df.groupby([\"host\", \"ip_dest\", \"apk\"]).size().reset_index(name=\"traffic_logs\")\n",
    "\n",
    "    group_df.sort_values(by=[\"host\", \"apk\", \"ip_dest\"], inplace=True)\n",
    "    \n",
    "    group_df.to_csv(filepath, sep=\",\", index=False)"
   ],
   "metadata": {
    "collapsed": false,
    "ExecuteTime": {
     "end_time": "2024-04-02T08:41:49.001843Z",
     "start_time": "2024-04-02T08:41:48.987209Z"
    }
   },
   "id": "64f7bf6493d860f6"
  },
  {
   "cell_type": "markdown",
   "source": [
    "Execute the enrichment of data and generation"
   ],
   "metadata": {
    "collapsed": false
   },
   "id": "8f23ffaf42779f8b"
  },
  {
   "cell_type": "code",
   "execution_count": 15,
   "outputs": [],
   "source": [
    "# Because is a long process and is only necessary to run once I include the condition\n",
    "if GENERATE_ROUTES_DATA:\n",
    "    # Generate the results\n",
    "    generate_routes_raw()\n",
    "    generate_routes_frequency_aggregation()"
   ],
   "metadata": {
    "collapsed": false,
    "ExecuteTime": {
     "end_time": "2024-04-02T08:41:49.012237Z",
     "start_time": "2024-04-02T08:41:49.002652Z"
    }
   },
   "id": "b6206031db89a758"
  },
  {
   "cell_type": "markdown",
   "source": [
    "Make the analysis"
   ],
   "metadata": {
    "collapsed": false
   },
   "id": "8f7d4fdd4cf15c54"
  },
  {
   "cell_type": "code",
   "outputs": [],
   "source": [
    "# Charge the dataframes to be used\n",
    "traffic_logs_ip_classified_analysis_df = pd.read_csv(TRAFFIC_LOGS_IP_CLASSIFIED_FILEPATH, sep=\",\")\n",
    "anycast_pii_traffic_logs_df = pd.read_csv(ANYCAST_PII_TRAFFIC_LOGS_FILEPATH, sep=\",\")\n",
    "datasets = [traffic_logs_ip_classified_analysis_df, anycast_pii_traffic_logs_df]\n",
    "analysis_filepaths = [TRAFFIC_LOGS_IP_CLASSIFIED_ANALYSIS_FILEPATH, ANYCAST_PII_TRAFFIC_LOGS_ANALYSIS_FILEPATH]\n",
    "aggregation_filepaths = [TRAFFIC_LOGS_IP_CLASSIFIED_HOST_AGGREGATION_FILEPATH, ANYCAST_PII_HOST_AGGREGATION_FILEPATH]"
   ],
   "metadata": {
    "collapsed": false,
    "ExecuteTime": {
     "end_time": "2024-04-02T08:41:49.743626Z",
     "start_time": "2024-04-02T08:41:49.013056Z"
    }
   },
   "id": "ca54aaa1dc002700",
   "execution_count": 16
  },
  {
   "cell_type": "code",
   "outputs": [],
   "source": [
    "# Populate datasets\n",
    "if ANALYZE_DATA:\n",
    "    for index in range(0, len(datasets)):\n",
    "        dataset_to_improve = datasets[index]\n",
    "        \n",
    "        # Populate with metadata\n",
    "        print(\"Populate with metadata\")\n",
    "        dataset_to_improve = populate_dataset_with_apks_metadata(dataset_to_improve)\n",
    "        # Populate with the privacy policy extracted data\n",
    "        print(\"Populate with the privacy policy extracted data\")\n",
    "        dataset_to_improve = populate_dataset_with_policy_extracted_info(dataset_to_improve)\n",
    "        # Populate with routes\n",
    "        print(\"Populate with routes\")\n",
    "        dataset_to_improve = populate_dataset_with_routes_results(dataset_to_improve)\n",
    "        # Populate with libraries data\n",
    "        print(\"Populate with the libraries data\")\n",
    "        dataset_to_improve = populate_dataset_with_libraries_data(dataset_to_improve)\n",
    "    \n",
    "        # Check conditions\n",
    "        print(\"Checking IT declarations accomplishment\")\n",
    "        dataset_to_improve = check_apk_it_gdpr_compliance(dataset_to_improve)\n",
    "    \n",
    "        print(\"Setting types and NaN\")\n",
    "        dataset_to_improve.fillna(\n",
    "            {\n",
    "                \"loadsJNI\": False,\n",
    "                \"stackTrace\": \"None\",\n",
    "                \"remote_host\": \"None\",\n",
    "                \"tls\": False,\n",
    "                \"https\": False,\n",
    "                \"error\": \"None\",\n",
    "                \"TP-performed\": False,\n",
    "                \"TP-library\": \"None\",\n",
    "                \"FP-intended\": False,\n",
    "            }, inplace=True\n",
    "        )\n",
    "        \n",
    "        print(\"Saving data\")\n",
    "        dataset_to_improve.to_csv(analysis_filepaths[index], sep=\",\", index=False)\n",
    "        \n",
    "        # Generate the aggregations for better understanding\n",
    "        aggregate_by_domain(dataframe=dataset_to_improve, filepath=aggregation_filepaths[index])\n",
    "    "
   ],
   "metadata": {
    "collapsed": false,
    "ExecuteTime": {
     "end_time": "2024-04-02T08:41:49.747739Z",
     "start_time": "2024-04-02T08:41:49.744417Z"
    }
   },
   "id": "47809ecc512817c",
   "execution_count": 17
  },
  {
   "cell_type": "markdown",
   "source": [
    "## Analysis questions\n",
    "\n",
    "Answers to the questions needed for the article\n",
    "\n",
    "Acronyms:\n",
    "- PII = Personal Identificable Information"
   ],
   "metadata": {
    "collapsed": false
   },
   "id": "1bd3273fca7aeeaa"
  },
  {
   "cell_type": "code",
   "outputs": [
    {
     "name": "stderr",
     "output_type": "stream",
     "text": [
      "/tmp/ipykernel_30019/3233838539.py:2: DtypeWarning: Columns (7,9,24,37) have mixed types. Specify dtype option on import or set low_memory=False.\n",
      "  traffic_logs_ip_classified_analysis_df = pd.read_csv(TRAFFIC_LOGS_IP_CLASSIFIED_ANALYSIS_FILEPATH, sep=\",\")\n",
      "/tmp/ipykernel_30019/3233838539.py:3: DtypeWarning: Columns (37) have mixed types. Specify dtype option on import or set low_memory=False.\n",
      "  anycast_pii_traffic_logs_analysis_df = pd.read_csv(ANYCAST_PII_TRAFFIC_LOGS_ANALYSIS_FILEPATH, sep=\",\")\n"
     ]
    }
   ],
   "source": [
    "# Data load\n",
    "traffic_logs_ip_classified_analysis_df = pd.read_csv(TRAFFIC_LOGS_IP_CLASSIFIED_ANALYSIS_FILEPATH, sep=\",\")\n",
    "anycast_pii_traffic_logs_analysis_df = pd.read_csv(ANYCAST_PII_TRAFFIC_LOGS_ANALYSIS_FILEPATH, sep=\",\")"
   ],
   "metadata": {
    "collapsed": false,
    "ExecuteTime": {
     "end_time": "2024-04-02T08:42:00.516746Z",
     "start_time": "2024-04-02T08:41:49.748622Z"
    }
   },
   "id": "4312ee087eaabf53",
   "execution_count": 18
  },
  {
   "cell_type": "markdown",
   "source": [
    "Traffic numbers"
   ],
   "metadata": {
    "collapsed": false
   },
   "id": "f9d12092a81d77b8"
  },
  {
   "cell_type": "code",
   "outputs": [
    {
     "name": "stdout",
     "output_type": "stream",
     "text": [
      "Number of connections intercepted: 4278823\n",
      "Number of anycast connections intercepted: 195786\n"
     ]
    }
   ],
   "source": [
    "all_connections = len(traffic_logs_ip_classified_analysis_df.index)\n",
    "print(f\"Number of connections intercepted: {all_connections}\")\n",
    "\n",
    "anycast_connections = len(anycast_pii_traffic_logs_analysis_df.index)\n",
    "print(f\"Number of anycast connections intercepted: {anycast_connections}\")"
   ],
   "metadata": {
    "collapsed": false,
    "ExecuteTime": {
     "end_time": "2024-04-02T08:42:00.520109Z",
     "start_time": "2024-04-02T08:42:00.517559Z"
    }
   },
   "id": "1c718eb434f411c7",
   "execution_count": 19
  },
  {
   "cell_type": "markdown",
   "source": [
    "**IPs analysis**"
   ],
   "metadata": {
    "collapsed": false
   },
   "id": "88555225610e9127"
  },
  {
   "cell_type": "code",
   "outputs": [
    {
     "name": "stdout",
     "output_type": "stream",
     "text": [
      "Number of IPs in traffic logs: 5647\n",
      "Number of IPs with PII: 1807\n",
      "Number of IPs anycast: 991\n",
      "Number of IPs anycast with PII: 200\n"
     ]
    }
   ],
   "source": [
    "ips_total = traffic_logs_ip_classified_analysis_df[\"ip_dest\"].unique().tolist()\n",
    "print(f\"Number of IPs in traffic logs: {len(ips_total)}\")\n",
    "\n",
    "ips_total_pii = traffic_logs_ip_classified_analysis_df.loc[\n",
    "    (traffic_logs_ip_classified_analysis_df[\"PII\"] != \"No-PII\") &\n",
    "    (traffic_logs_ip_classified_analysis_df[\"PII\"].notna())\n",
    "    ][\"ip_dest\"].unique().tolist()\n",
    "print(f\"Number of IPs with PII: {len(ips_total_pii)}\")\n",
    "\n",
    "ips_anycast = traffic_logs_ip_classified_analysis_df.loc[\n",
    "    traffic_logs_ip_classified_analysis_df[\"ip_anycast\"]\n",
    "][\"ip_dest\"].unique().tolist()\n",
    "print(f\"Number of IPs anycast: {len(ips_anycast)}\")\n",
    "\n",
    "ips_anycast_pii = traffic_logs_ip_classified_analysis_df.loc[\n",
    "    (traffic_logs_ip_classified_analysis_df[\"ip_anycast\"]) &\n",
    "    (traffic_logs_ip_classified_analysis_df[\"PII\"] != \"No-PII\") &\n",
    "    (traffic_logs_ip_classified_analysis_df[\"PII\"].notna())\n",
    "    ][\"ip_dest\"].unique().tolist()\n",
    "print(f\"Number of IPs anycast with PII: {len(ips_anycast_pii)}\")"
   ],
   "metadata": {
    "collapsed": false,
    "ExecuteTime": {
     "end_time": "2024-04-02T08:42:01.666468Z",
     "start_time": "2024-04-02T08:42:00.520795Z"
    }
   },
   "id": "a95eaa1142c4f4b8",
   "execution_count": 20
  },
  {
   "cell_type": "markdown",
   "source": [
    "**APKS analysis**"
   ],
   "metadata": {
    "collapsed": false
   },
   "id": "a71b37155d0389f5"
  },
  {
   "cell_type": "code",
   "outputs": [
    {
     "name": "stdout",
     "output_type": "stream",
     "text": [
      "Number of APKs in traffic logs: 5759\n",
      "Number of APKs with PII: 3478\n",
      "Number of APKs using anycast: 1669\n",
      "Number of APKs anycast with PII: 960\n"
     ]
    }
   ],
   "source": [
    "apks_total = traffic_logs_ip_classified_analysis_df[\"apk\"].unique().tolist()\n",
    "print(f\"Number of APKs in traffic logs: {len(apks_total)}\")\n",
    "\n",
    "apks_total_pii = traffic_logs_ip_classified_analysis_df.loc[\n",
    "    (traffic_logs_ip_classified_analysis_df[\"PII\"] != \"No-PII\") &\n",
    "    (traffic_logs_ip_classified_analysis_df[\"PII\"].notna())\n",
    "    ][\"apk\"].unique().tolist()\n",
    "print(f\"Number of APKs with PII: {len(apks_total_pii)}\")\n",
    "\n",
    "apks_anycast = traffic_logs_ip_classified_analysis_df.loc[\n",
    "    traffic_logs_ip_classified_analysis_df[\"ip_anycast\"]\n",
    "][\"apk\"].unique().tolist()\n",
    "print(f\"Number of APKs using anycast: {len(apks_anycast)}\")\n",
    "\n",
    "apks_anycast_pii = traffic_logs_ip_classified_analysis_df.loc[\n",
    "    (traffic_logs_ip_classified_analysis_df[\"ip_anycast\"]) &\n",
    "    (traffic_logs_ip_classified_analysis_df[\"PII\"] != \"No-PII\") &\n",
    "    (traffic_logs_ip_classified_analysis_df[\"PII\"].notna())\n",
    "    ][\"apk\"].unique().tolist()\n",
    "print(f\"Number of APKs anycast with PII: {len(apks_anycast_pii)}\")"
   ],
   "metadata": {
    "collapsed": false,
    "ExecuteTime": {
     "end_time": "2024-04-02T08:42:02.953413Z",
     "start_time": "2024-04-02T08:42:01.667374Z"
    }
   },
   "id": "76c72f39cb6c7d85",
   "execution_count": 21
  },
  {
   "cell_type": "markdown",
   "source": [
    "**Hosts Analysis**"
   ],
   "metadata": {
    "collapsed": false
   },
   "id": "c98ce9aa4f43b5d2"
  },
  {
   "cell_type": "code",
   "outputs": [
    {
     "name": "stdout",
     "output_type": "stream",
     "text": [
      "Number of hosts in traffic logs: 4738\n",
      "Number of hosts with PII: 966\n",
      "Number of hosts using anycast: 995\n",
      "Number of hosts anycast with PII: 201\n"
     ]
    }
   ],
   "source": [
    "hosts_total = traffic_logs_ip_classified_analysis_df[\"host\"].unique().tolist()\n",
    "print(f\"Number of hosts in traffic logs: {len(hosts_total)}\")\n",
    "\n",
    "hosts_total_pii = traffic_logs_ip_classified_analysis_df.loc[\n",
    "    (traffic_logs_ip_classified_analysis_df[\"PII\"] != \"No-PII\") &\n",
    "    (traffic_logs_ip_classified_analysis_df[\"PII\"].notna())\n",
    "    ][\"host\"].unique().tolist()\n",
    "print(f\"Number of hosts with PII: {len(hosts_total_pii)}\")\n",
    "\n",
    "hosts_anycast = traffic_logs_ip_classified_analysis_df.loc[\n",
    "    traffic_logs_ip_classified_analysis_df[\"ip_anycast\"]\n",
    "][\"host\"].unique().tolist()\n",
    "print(f\"Number of hosts using anycast: {len(hosts_anycast)}\")\n",
    "\n",
    "hosts_anycast_pii = traffic_logs_ip_classified_analysis_df.loc[\n",
    "    (traffic_logs_ip_classified_analysis_df[\"ip_anycast\"]) &\n",
    "    (traffic_logs_ip_classified_analysis_df[\"PII\"] != \"No-PII\") &\n",
    "    (traffic_logs_ip_classified_analysis_df[\"PII\"].notna())\n",
    "    ][\"host\"].unique().tolist()\n",
    "print(f\"Number of hosts anycast with PII: {len(hosts_anycast_pii)}\")"
   ],
   "metadata": {
    "collapsed": false,
    "ExecuteTime": {
     "end_time": "2024-04-02T08:42:04.106742Z",
     "start_time": "2024-04-02T08:42:02.954653Z"
    }
   },
   "id": "5a9bcccc70a378d",
   "execution_count": 22
  },
  {
   "cell_type": "markdown",
   "source": [
    "**Data Types**  "
   ],
   "metadata": {
    "collapsed": false
   },
   "id": "22eacec4072b9aef"
  },
  {
   "cell_type": "code",
   "outputs": [
    {
     "name": "stdout",
     "output_type": "stream",
     "text": [
      "Types of PII data treated by anycast IPs:\n",
      "['Device_Model', 'Google_Ad_ID', 'Build_No', 'Kernel_version', 'Fingerprint', 'Router_Wifi_BSSID', 'Router_Wifi_BSSID_Close', 'Router_Wifi_MAC', 'Device_location', 'Device_location_coarse']\n",
      "Types of PII data treated by anycast IPs that make IT:\n",
      "['Device_Model', 'Google_Ad_ID', 'Build_No', 'Kernel_version', 'Fingerprint', 'Router_Wifi_BSSID', 'Router_Wifi_BSSID_Close', 'Router_Wifi_MAC', 'Device_location', 'Device_location_coarse']\n"
     ]
    }
   ],
   "source": [
    "pii_data_types_anycast = anycast_pii_traffic_logs_analysis_df[\"PII\"].unique().tolist()\n",
    "print(f\"Types of PII data treated by anycast IPs:\")\n",
    "print(pii_data_types_anycast)\n",
    "\n",
    "pii_data_types_anycast_pii_it = anycast_pii_traffic_logs_analysis_df.loc[\n",
    "    anycast_pii_traffic_logs_analysis_df[\"outside_EEE\"]\n",
    "][\"PII\"].unique().tolist()\n",
    "print(f\"Types of PII data treated by anycast IPs that make IT:\")\n",
    "print(pii_data_types_anycast_pii_it)"
   ],
   "metadata": {
    "collapsed": false,
    "ExecuteTime": {
     "end_time": "2024-04-02T08:42:04.137167Z",
     "start_time": "2024-04-02T08:42:04.107648Z"
    }
   },
   "id": "c27f5d9f8c7fe13b",
   "execution_count": 23
  },
  {
   "cell_type": "markdown",
   "source": [
    "**GDPR Compliance**"
   ],
   "metadata": {
    "collapsed": false
   },
   "id": "9d554e1ce805ee86"
  },
  {
   "cell_type": "code",
   "outputs": [
    {
     "name": "stdout",
     "output_type": "stream",
     "text": [
      "Number of APKs that use anycast IPs and treat PII that declare IT in privacy policy: 196\n",
      "Number of APKs that use anycast IPs and treat PII that has not compliance: 947\n",
      "Number of APKs that use anycast IPs and treat PII that has not compliance and declare IT in privacy policy: 189\n",
      "['com.fingersoft.hillclimb']\n"
     ]
    }
   ],
   "source": [
    "apks_anycast_pii_declare_it = anycast_pii_traffic_logs_analysis_df.loc[\n",
    "    anycast_pii_traffic_logs_analysis_df[\"it_mentioned_by_policy\"]\n",
    "][\"apk\"].unique().tolist()\n",
    "print(f\"Number of APKs that use anycast IPs and treat PII that declare IT in privacy policy: {len(apks_anycast_pii_declare_it)}\")\n",
    "\n",
    "apks_anycast_pii_not_compliance = anycast_pii_traffic_logs_analysis_df.loc[\n",
    "    anycast_pii_traffic_logs_analysis_df[\"apk_it_gdpr_compliance\"] == False\n",
    "][\"apk\"].unique().tolist()\n",
    "print(f\"Number of APKs that use anycast IPs and treat PII that has not compliance: {len(apks_anycast_pii_not_compliance)}\")\n",
    "\n",
    "apks_anycast_pii_not_compliance_declare_it = anycast_pii_traffic_logs_analysis_df.loc[\n",
    "    (anycast_pii_traffic_logs_analysis_df[\"it_mentioned_by_policy\"] == True) &\n",
    "    (anycast_pii_traffic_logs_analysis_df[\"apk_it_gdpr_compliance\"] == False)\n",
    "    ][\"apk\"].unique().tolist()\n",
    "print(f\"Number of APKs that use anycast IPs and treat PII that has not compliance and declare IT in privacy policy: {len(apks_anycast_pii_not_compliance_declare_it)}\")\n"
   ],
   "metadata": {
    "collapsed": false,
    "ExecuteTime": {
     "end_time": "2024-04-02T08:52:47.200424Z",
     "start_time": "2024-04-02T08:52:47.151217Z"
    }
   },
   "id": "39f65ca46cf5f6ec",
   "execution_count": 31
  },
  {
   "cell_type": "markdown",
   "source": [
    "**TLPs**"
   ],
   "metadata": {
    "collapsed": false
   },
   "id": "772e34f4c4130bdc"
  },
  {
   "cell_type": "code",
   "outputs": [
    {
     "name": "stdout",
     "output_type": "stream",
     "text": [
      "Number of connections Anycast+PII: 195786\n",
      "Number of connections Anycast+PII+IT: 195432\n",
      "Number of connections Anycast+PII+IT set up by APP: 89103\n",
      "Number of connections Anycast+PII+IT unknow: 0\n",
      "Number of connections Anycast+PII+IT set up by TPL: 83833\n",
      "Number of connections Anycast+PII+IT set up by TPL but performed from FP: 77873\n"
     ]
    }
   ],
   "source": [
    "anycast_pii_connections = len(anycast_pii_traffic_logs_analysis_df.index)\n",
    "print(f\"Number of connections Anycast+PII: {anycast_pii_connections}\")\n",
    "\n",
    "anycast_pii_it_connections = len(\n",
    "    anycast_pii_traffic_logs_analysis_df.loc[\n",
    "        (anycast_pii_traffic_logs_analysis_df[\"outside_EEE\"] == True)\n",
    "    ].index)\n",
    "print(f\"Number of connections Anycast+PII+IT: {anycast_pii_it_connections}\")\n",
    "\n",
    "anycast_pii_it_connections_by_app = len(\n",
    "    anycast_pii_traffic_logs_analysis_df.loc[\n",
    "        (anycast_pii_traffic_logs_analysis_df[\"outside_EEE\"] == True) &\n",
    "        (anycast_pii_traffic_logs_analysis_df[\"TP-performed\"] == False) &\n",
    "        (anycast_pii_traffic_logs_analysis_df[\"FP-intended\"] == True)\n",
    "    ].index)\n",
    "print(f\"Number of connections Anycast+PII+IT set up by APP: {anycast_pii_it_connections_by_app}\")\n",
    "\n",
    "anycast_pii_it_connections_unknown = len(\n",
    "    anycast_pii_traffic_logs_analysis_df.loc[\n",
    "        (anycast_pii_traffic_logs_analysis_df[\"outside_EEE\"] == True) &\n",
    "        (anycast_pii_traffic_logs_analysis_df[\"TP-performed\"] == False) &\n",
    "        (anycast_pii_traffic_logs_analysis_df[\"TP-library\"] == \"None\") &\n",
    "        (anycast_pii_traffic_logs_analysis_df[\"FP-intended\"] == False)\n",
    "        ].index)\n",
    "print(f\"Number of connections Anycast+PII+IT unknow: {anycast_pii_it_connections_unknown}\")\n",
    "\n",
    "anycast_pii_it_connections_by_tpl = len(\n",
    "    anycast_pii_traffic_logs_analysis_df.loc[\n",
    "        (anycast_pii_traffic_logs_analysis_df[\"outside_EEE\"] == True) &\n",
    "        (anycast_pii_traffic_logs_analysis_df[\"TP-performed\"] == True)\n",
    "        ].index)\n",
    "print(f\"Number of connections Anycast+PII+IT set up by TPL: {anycast_pii_it_connections_by_tpl}\")\n",
    "\n",
    "anycast_pii_it_connections_by_tpl_fp_intended = len(\n",
    "    anycast_pii_traffic_logs_analysis_df.loc[\n",
    "        (anycast_pii_traffic_logs_analysis_df[\"outside_EEE\"] == True) &\n",
    "        (anycast_pii_traffic_logs_analysis_df[\"TP-performed\"] == True) &\n",
    "        (anycast_pii_traffic_logs_analysis_df[\"FP-intended\"] == True)\n",
    "        ].index)\n",
    "print(f\"Number of connections Anycast+PII+IT set up by TPL but performed from FP: {anycast_pii_it_connections_by_tpl_fp_intended}\")\n"
   ],
   "metadata": {
    "collapsed": false,
    "ExecuteTime": {
     "end_time": "2024-04-02T08:42:04.241970Z",
     "start_time": "2024-04-02T08:42:04.184262Z"
    }
   },
   "id": "6c757064eb2128f3",
   "execution_count": 25
  },
  {
   "cell_type": "code",
   "outputs": [
    {
     "name": "stdout",
     "output_type": "stream",
     "text": [
      "List of TPLs Anycast+PII+IT\n",
      "['com.google', 'com.unity3d', 'com.onesignal', 'com.mob', 'com.bugsnag', 'com.newrelic.agent.android', 'com.android.volley', 'com.adjust.sdk', 'io.bidmachine', 'com.appodeal.ads', 'com.applovin', 'com.mixpanel.android', 'com.google.android.gms', 'com.kochava.core', 'com.adcolony', 'com.safedk', 'com.chartboost', 'com.mopub.volley', 'io.sentry', 'com.urbanairship', 'com.emarsys', 'com.leanplum', 'com.kochava', 'com.fyber', 'io.grpc', 'com.dynatrace']\n",
      "Number of TPLs Anycast+PII+IT: 26\n"
     ]
    }
   ],
   "source": [
    "tpls_anycast_pii_ip = anycast_pii_traffic_logs_analysis_df.loc[\n",
    "    (anycast_pii_traffic_logs_analysis_df[\"outside_EEE\"] == True) &\n",
    "    (anycast_pii_traffic_logs_analysis_df[\"TP-library\"] != \"None\") &\n",
    "    (~anycast_pii_traffic_logs_analysis_df[\"TP-library\"].isnull())\n",
    "][\"TP-library\"].unique().tolist()\n",
    "\n",
    "print(\"List of TPLs Anycast+PII+IT\")\n",
    "print(tpls_anycast_pii_ip)\n",
    "print(f\"Number of TPLs Anycast+PII+IT: {len(tpls_anycast_pii_ip)}\")"
   ],
   "metadata": {
    "collapsed": false,
    "ExecuteTime": {
     "end_time": "2024-04-02T08:42:04.263263Z",
     "start_time": "2024-04-02T08:42:04.242855Z"
    }
   },
   "id": "e3373c4dbe6b8191",
   "execution_count": 26
  },
  {
   "cell_type": "markdown",
   "source": [
    "# STOP"
   ],
   "metadata": {
    "collapsed": false
   },
   "id": "9361948247880a97"
  },
  {
   "cell_type": "code",
   "outputs": [
    {
     "name": "stdout",
     "output_type": "stream",
     "text": [
      "['com.fingersoft.hillclimb']\n"
     ]
    },
    {
     "data": {
      "text/plain": "       levelname                  asctime                 message  \\\n158968     DEBUG  2023-12-28 21:19:39.701  Connection intercepted   \n158969     DEBUG  2023-12-28 21:19:39.701  Connection intercepted   \n158970     DEBUG  2023-12-28 21:19:39.701  Connection intercepted   \n158971     DEBUG  2023-12-28 21:19:39.701  Connection intercepted   \n158972     DEBUG  2023-12-28 21:19:39.701  Connection intercepted   \n158973     DEBUG  2023-12-28 21:19:39.701  Connection intercepted   \n158974     DEBUG  2023-12-28 21:19:39.701  Connection intercepted   \n158975     DEBUG  2023-12-28 21:19:40.560  Connection intercepted   \n158976     DEBUG  2023-12-28 21:19:40.560  Connection intercepted   \n158977     DEBUG  2023-12-28 21:19:40.560  Connection intercepted   \n158978     DEBUG  2023-12-28 21:19:40.560  Connection intercepted   \n158979     DEBUG  2023-12-28 21:19:40.560  Connection intercepted   \n158980     DEBUG  2023-12-28 21:19:40.560  Connection intercepted   \n158981     DEBUG  2023-12-28 21:19:40.560  Connection intercepted   \n158982     DEBUG  2023-12-28 21:19:41.386  Connection intercepted   \n158983     DEBUG  2023-12-28 21:19:41.386  Connection intercepted   \n158984     DEBUG  2023-12-28 21:19:41.386  Connection intercepted   \n158985     DEBUG  2023-12-28 21:19:41.386  Connection intercepted   \n158986     DEBUG  2023-12-28 21:19:41.386  Connection intercepted   \n158987     DEBUG  2023-12-28 21:19:41.386  Connection intercepted   \n158988     DEBUG  2023-12-28 21:19:41.386  Connection intercepted   \n158989     DEBUG  2023-12-28 21:19:42.244  Connection intercepted   \n158990     DEBUG  2023-12-28 21:19:42.244  Connection intercepted   \n158991     DEBUG  2023-12-28 21:19:42.244  Connection intercepted   \n158992     DEBUG  2023-12-28 21:19:42.244  Connection intercepted   \n158993     DEBUG  2023-12-28 21:19:42.244  Connection intercepted   \n158994     DEBUG  2023-12-28 21:19:42.244  Connection intercepted   \n158995     DEBUG  2023-12-28 21:19:42.244  Connection intercepted   \n158996     DEBUG  2023-12-28 21:19:43.089  Connection intercepted   \n158997     DEBUG  2023-12-28 21:19:43.089  Connection intercepted   \n158998     DEBUG  2023-12-28 21:19:43.089  Connection intercepted   \n158999     DEBUG  2023-12-28 21:19:43.089  Connection intercepted   \n159000     DEBUG  2023-12-28 21:19:43.089  Connection intercepted   \n159001     DEBUG  2023-12-28 21:19:43.089  Connection intercepted   \n159002     DEBUG  2023-12-28 21:19:43.089  Connection intercepted   \n159003     DEBUG  2023-12-28 21:19:43.920  Connection intercepted   \n159004     DEBUG  2023-12-28 21:19:43.920  Connection intercepted   \n159005     DEBUG  2023-12-28 21:19:43.920  Connection intercepted   \n159006     DEBUG  2023-12-28 21:19:43.920  Connection intercepted   \n159007     DEBUG  2023-12-28 21:19:43.920  Connection intercepted   \n159008     DEBUG  2023-12-28 21:19:43.920  Connection intercepted   \n159009     DEBUG  2023-12-28 21:19:43.920  Connection intercepted   \n\n                             apk  version phase  loadsJNI  stackTrace  \\\n158968  com.fingersoft.hillclimb      610  idle     False         NaN   \n158969  com.fingersoft.hillclimb      610  idle     False         NaN   \n158970  com.fingersoft.hillclimb      610  idle     False         NaN   \n158971  com.fingersoft.hillclimb      610  idle     False         NaN   \n158972  com.fingersoft.hillclimb      610  idle     False         NaN   \n158973  com.fingersoft.hillclimb      610  idle     False         NaN   \n158974  com.fingersoft.hillclimb      610  idle     False         NaN   \n158975  com.fingersoft.hillclimb      610  idle     False         NaN   \n158976  com.fingersoft.hillclimb      610  idle     False         NaN   \n158977  com.fingersoft.hillclimb      610  idle     False         NaN   \n158978  com.fingersoft.hillclimb      610  idle     False         NaN   \n158979  com.fingersoft.hillclimb      610  idle     False         NaN   \n158980  com.fingersoft.hillclimb      610  idle     False         NaN   \n158981  com.fingersoft.hillclimb      610  idle     False         NaN   \n158982  com.fingersoft.hillclimb      610  idle     False         NaN   \n158983  com.fingersoft.hillclimb      610  idle     False         NaN   \n158984  com.fingersoft.hillclimb      610  idle     False         NaN   \n158985  com.fingersoft.hillclimb      610  idle     False         NaN   \n158986  com.fingersoft.hillclimb      610  idle     False         NaN   \n158987  com.fingersoft.hillclimb      610  idle     False         NaN   \n158988  com.fingersoft.hillclimb      610  idle     False         NaN   \n158989  com.fingersoft.hillclimb      610  idle     False         NaN   \n158990  com.fingersoft.hillclimb      610  idle     False         NaN   \n158991  com.fingersoft.hillclimb      610  idle     False         NaN   \n158992  com.fingersoft.hillclimb      610  idle     False         NaN   \n158993  com.fingersoft.hillclimb      610  idle     False         NaN   \n158994  com.fingersoft.hillclimb      610  idle     False         NaN   \n158995  com.fingersoft.hillclimb      610  idle     False         NaN   \n158996  com.fingersoft.hillclimb      610  idle     False         NaN   \n158997  com.fingersoft.hillclimb      610  idle     False         NaN   \n158998  com.fingersoft.hillclimb      610  idle     False         NaN   \n158999  com.fingersoft.hillclimb      610  idle     False         NaN   \n159000  com.fingersoft.hillclimb      610  idle     False         NaN   \n159001  com.fingersoft.hillclimb      610  idle     False         NaN   \n159002  com.fingersoft.hillclimb      610  idle     False         NaN   \n159003  com.fingersoft.hillclimb      610  idle     False         NaN   \n159004  com.fingersoft.hillclimb      610  idle     False         NaN   \n159005  com.fingersoft.hillclimb      610  idle     False         NaN   \n159006  com.fingersoft.hillclimb      610  idle     False         NaN   \n159007  com.fingersoft.hillclimb      610  idle     False         NaN   \n159008  com.fingersoft.hillclimb      610  idle     False         NaN   \n159009  com.fingersoft.hillclimb      610  idle     False         NaN   \n\n        local_port  remote_host  ... adequacy_decision_by_policy  \\\n158968         NaN          NaN  ...                       False   \n158969         NaN          NaN  ...                       False   \n158970         NaN          NaN  ...                       False   \n158971         NaN          NaN  ...                       False   \n158972         NaN          NaN  ...                       False   \n158973         NaN          NaN  ...                       False   \n158974         NaN          NaN  ...                       False   \n158975         NaN          NaN  ...                       False   \n158976         NaN          NaN  ...                       False   \n158977         NaN          NaN  ...                       False   \n158978         NaN          NaN  ...                       False   \n158979         NaN          NaN  ...                       False   \n158980         NaN          NaN  ...                       False   \n158981         NaN          NaN  ...                       False   \n158982         NaN          NaN  ...                       False   \n158983         NaN          NaN  ...                       False   \n158984         NaN          NaN  ...                       False   \n158985         NaN          NaN  ...                       False   \n158986         NaN          NaN  ...                       False   \n158987         NaN          NaN  ...                       False   \n158988         NaN          NaN  ...                       False   \n158989         NaN          NaN  ...                       False   \n158990         NaN          NaN  ...                       False   \n158991         NaN          NaN  ...                       False   \n158992         NaN          NaN  ...                       False   \n158993         NaN          NaN  ...                       False   \n158994         NaN          NaN  ...                       False   \n158995         NaN          NaN  ...                       False   \n158996         NaN          NaN  ...                       False   \n158997         NaN          NaN  ...                       False   \n158998         NaN          NaN  ...                       False   \n158999         NaN          NaN  ...                       False   \n159000         NaN          NaN  ...                       False   \n159001         NaN          NaN  ...                       False   \n159002         NaN          NaN  ...                       False   \n159003         NaN          NaN  ...                       False   \n159004         NaN          NaN  ...                       False   \n159005         NaN          NaN  ...                       False   \n159006         NaN          NaN  ...                       False   \n159007         NaN          NaN  ...                       False   \n159008         NaN          NaN  ...                       False   \n159009         NaN          NaN  ...                       False   \n\n       countries_mentioned_by_policy  origins_transfers_outside_EEE  \\\n158968                            []       ['BE', 'IS', 'FR', 'FR']   \n158969                            []       ['BE', 'IS', 'FR', 'FR']   \n158970                            []       ['BE', 'IS', 'FR', 'FR']   \n158971                            []       ['BE', 'IS', 'FR', 'FR']   \n158972                            []       ['BE', 'IS', 'FR', 'FR']   \n158973                            []       ['BE', 'IS', 'FR', 'FR']   \n158974                            []       ['BE', 'IS', 'FR', 'FR']   \n158975                            []       ['BE', 'IS', 'FR', 'FR']   \n158976                            []       ['BE', 'IS', 'FR', 'FR']   \n158977                            []       ['BE', 'IS', 'FR', 'FR']   \n158978                            []       ['BE', 'IS', 'FR', 'FR']   \n158979                            []       ['BE', 'IS', 'FR', 'FR']   \n158980                            []       ['BE', 'IS', 'FR', 'FR']   \n158981                            []       ['BE', 'IS', 'FR', 'FR']   \n158982                            []       ['BE', 'IS', 'FR', 'FR']   \n158983                            []       ['BE', 'IS', 'FR', 'FR']   \n158984                            []       ['BE', 'IS', 'FR', 'FR']   \n158985                            []       ['BE', 'IS', 'FR', 'FR']   \n158986                            []       ['BE', 'IS', 'FR', 'FR']   \n158987                            []       ['BE', 'IS', 'FR', 'FR']   \n158988                            []       ['BE', 'IS', 'FR', 'FR']   \n158989                            []       ['BE', 'IS', 'FR', 'FR']   \n158990                            []       ['BE', 'IS', 'FR', 'FR']   \n158991                            []       ['BE', 'IS', 'FR', 'FR']   \n158992                            []       ['BE', 'IS', 'FR', 'FR']   \n158993                            []       ['BE', 'IS', 'FR', 'FR']   \n158994                            []       ['BE', 'IS', 'FR', 'FR']   \n158995                            []       ['BE', 'IS', 'FR', 'FR']   \n158996                            []       ['BE', 'IS', 'FR', 'FR']   \n158997                            []       ['BE', 'IS', 'FR', 'FR']   \n158998                            []       ['BE', 'IS', 'FR', 'FR']   \n158999                            []       ['BE', 'IS', 'FR', 'FR']   \n159000                            []       ['BE', 'IS', 'FR', 'FR']   \n159001                            []       ['BE', 'IS', 'FR', 'FR']   \n159002                            []       ['BE', 'IS', 'FR', 'FR']   \n159003                            []       ['BE', 'IS', 'FR', 'FR']   \n159004                            []       ['BE', 'IS', 'FR', 'FR']   \n159005                            []       ['BE', 'IS', 'FR', 'FR']   \n159006                            []       ['BE', 'IS', 'FR', 'FR']   \n159007                            []       ['BE', 'IS', 'FR', 'FR']   \n159008                            []       ['BE', 'IS', 'FR', 'FR']   \n159009                            []       ['BE', 'IS', 'FR', 'FR']   \n\n       destinations_transfers_outside_EEE frequency_transfers_outside_EEE  \\\n158968           ['GB', 'GB', 'GB', 'CH']                    [5, 3, 1, 1]   \n158969           ['GB', 'GB', 'GB', 'CH']                    [5, 3, 1, 1]   \n158970           ['GB', 'GB', 'GB', 'CH']                    [5, 3, 1, 1]   \n158971           ['GB', 'GB', 'GB', 'CH']                    [5, 3, 1, 1]   \n158972           ['GB', 'GB', 'GB', 'CH']                    [5, 3, 1, 1]   \n158973           ['GB', 'GB', 'GB', 'CH']                    [5, 3, 1, 1]   \n158974           ['GB', 'GB', 'GB', 'CH']                    [5, 3, 1, 1]   \n158975           ['GB', 'GB', 'GB', 'CH']                    [5, 3, 1, 1]   \n158976           ['GB', 'GB', 'GB', 'CH']                    [5, 3, 1, 1]   \n158977           ['GB', 'GB', 'GB', 'CH']                    [5, 3, 1, 1]   \n158978           ['GB', 'GB', 'GB', 'CH']                    [5, 3, 1, 1]   \n158979           ['GB', 'GB', 'GB', 'CH']                    [5, 3, 1, 1]   \n158980           ['GB', 'GB', 'GB', 'CH']                    [5, 3, 1, 1]   \n158981           ['GB', 'GB', 'GB', 'CH']                    [5, 3, 1, 1]   \n158982           ['GB', 'GB', 'GB', 'CH']                    [5, 3, 1, 1]   \n158983           ['GB', 'GB', 'GB', 'CH']                    [5, 3, 1, 1]   \n158984           ['GB', 'GB', 'GB', 'CH']                    [5, 3, 1, 1]   \n158985           ['GB', 'GB', 'GB', 'CH']                    [5, 3, 1, 1]   \n158986           ['GB', 'GB', 'GB', 'CH']                    [5, 3, 1, 1]   \n158987           ['GB', 'GB', 'GB', 'CH']                    [5, 3, 1, 1]   \n158988           ['GB', 'GB', 'GB', 'CH']                    [5, 3, 1, 1]   \n158989           ['GB', 'GB', 'GB', 'CH']                    [5, 3, 1, 1]   \n158990           ['GB', 'GB', 'GB', 'CH']                    [5, 3, 1, 1]   \n158991           ['GB', 'GB', 'GB', 'CH']                    [5, 3, 1, 1]   \n158992           ['GB', 'GB', 'GB', 'CH']                    [5, 3, 1, 1]   \n158993           ['GB', 'GB', 'GB', 'CH']                    [5, 3, 1, 1]   \n158994           ['GB', 'GB', 'GB', 'CH']                    [5, 3, 1, 1]   \n158995           ['GB', 'GB', 'GB', 'CH']                    [5, 3, 1, 1]   \n158996           ['GB', 'GB', 'GB', 'CH']                    [5, 3, 1, 1]   \n158997           ['GB', 'GB', 'GB', 'CH']                    [5, 3, 1, 1]   \n158998           ['GB', 'GB', 'GB', 'CH']                    [5, 3, 1, 1]   \n158999           ['GB', 'GB', 'GB', 'CH']                    [5, 3, 1, 1]   \n159000           ['GB', 'GB', 'GB', 'CH']                    [5, 3, 1, 1]   \n159001           ['GB', 'GB', 'GB', 'CH']                    [5, 3, 1, 1]   \n159002           ['GB', 'GB', 'GB', 'CH']                    [5, 3, 1, 1]   \n159003           ['GB', 'GB', 'GB', 'CH']                    [5, 3, 1, 1]   \n159004           ['GB', 'GB', 'GB', 'CH']                    [5, 3, 1, 1]   \n159005           ['GB', 'GB', 'GB', 'CH']                    [5, 3, 1, 1]   \n159006           ['GB', 'GB', 'GB', 'CH']                    [5, 3, 1, 1]   \n159007           ['GB', 'GB', 'GB', 'CH']                    [5, 3, 1, 1]   \n159008           ['GB', 'GB', 'GB', 'CH']                    [5, 3, 1, 1]   \n159009           ['GB', 'GB', 'GB', 'CH']                    [5, 3, 1, 1]   \n\n       outside_EEE  TP-performed  TP-library FP-intended  \\\n158968        True         False         NaN       False   \n158969        True         False         NaN       False   \n158970        True         False         NaN       False   \n158971        True         False         NaN       False   \n158972        True         False         NaN       False   \n158973        True         False         NaN       False   \n158974        True         False         NaN       False   \n158975        True         False         NaN       False   \n158976        True         False         NaN       False   \n158977        True         False         NaN       False   \n158978        True         False         NaN       False   \n158979        True         False         NaN       False   \n158980        True         False         NaN       False   \n158981        True         False         NaN       False   \n158982        True         False         NaN       False   \n158983        True         False         NaN       False   \n158984        True         False         NaN       False   \n158985        True         False         NaN       False   \n158986        True         False         NaN       False   \n158987        True         False         NaN       False   \n158988        True         False         NaN       False   \n158989        True         False         NaN       False   \n158990        True         False         NaN       False   \n158991        True         False         NaN       False   \n158992        True         False         NaN       False   \n158993        True         False         NaN       False   \n158994        True         False         NaN       False   \n158995        True         False         NaN       False   \n158996        True         False         NaN       False   \n158997        True         False         NaN       False   \n158998        True         False         NaN       False   \n158999        True         False         NaN       False   \n159000        True         False         NaN       False   \n159001        True         False         NaN       False   \n159002        True         False         NaN       False   \n159003        True         False         NaN       False   \n159004        True         False         NaN       False   \n159005        True         False         NaN       False   \n159006        True         False         NaN       False   \n159007        True         False         NaN       False   \n159008        True         False         NaN       False   \n159009        True         False         NaN       False   \n\n        apk_it_gdpr_compliance  \n158968                   False  \n158969                   False  \n158970                   False  \n158971                   False  \n158972                   False  \n158973                   False  \n158974                   False  \n158975                   False  \n158976                   False  \n158977                   False  \n158978                   False  \n158979                   False  \n158980                   False  \n158981                   False  \n158982                   False  \n158983                   False  \n158984                   False  \n158985                   False  \n158986                   False  \n158987                   False  \n158988                   False  \n158989                   False  \n158990                   False  \n158991                   False  \n158992                   False  \n158993                   False  \n158994                   False  \n158995                   False  \n158996                   False  \n158997                   False  \n158998                   False  \n158999                   False  \n159000                   False  \n159001                   False  \n159002                   False  \n159003                   False  \n159004                   False  \n159005                   False  \n159006                   False  \n159007                   False  \n159008                   False  \n159009                   False  \n\n[42 rows x 40 columns]",
      "text/html": "<div>\n<style scoped>\n    .dataframe tbody tr th:only-of-type {\n        vertical-align: middle;\n    }\n\n    .dataframe tbody tr th {\n        vertical-align: top;\n    }\n\n    .dataframe thead th {\n        text-align: right;\n    }\n</style>\n<table border=\"1\" class=\"dataframe\">\n  <thead>\n    <tr style=\"text-align: right;\">\n      <th></th>\n      <th>levelname</th>\n      <th>asctime</th>\n      <th>message</th>\n      <th>apk</th>\n      <th>version</th>\n      <th>phase</th>\n      <th>loadsJNI</th>\n      <th>stackTrace</th>\n      <th>local_port</th>\n      <th>remote_host</th>\n      <th>...</th>\n      <th>adequacy_decision_by_policy</th>\n      <th>countries_mentioned_by_policy</th>\n      <th>origins_transfers_outside_EEE</th>\n      <th>destinations_transfers_outside_EEE</th>\n      <th>frequency_transfers_outside_EEE</th>\n      <th>outside_EEE</th>\n      <th>TP-performed</th>\n      <th>TP-library</th>\n      <th>FP-intended</th>\n      <th>apk_it_gdpr_compliance</th>\n    </tr>\n  </thead>\n  <tbody>\n    <tr>\n      <th>158968</th>\n      <td>DEBUG</td>\n      <td>2023-12-28 21:19:39.701</td>\n      <td>Connection intercepted</td>\n      <td>com.fingersoft.hillclimb</td>\n      <td>610</td>\n      <td>idle</td>\n      <td>False</td>\n      <td>NaN</td>\n      <td>NaN</td>\n      <td>NaN</td>\n      <td>...</td>\n      <td>False</td>\n      <td>[]</td>\n      <td>['BE', 'IS', 'FR', 'FR']</td>\n      <td>['GB', 'GB', 'GB', 'CH']</td>\n      <td>[5, 3, 1, 1]</td>\n      <td>True</td>\n      <td>False</td>\n      <td>NaN</td>\n      <td>False</td>\n      <td>False</td>\n    </tr>\n    <tr>\n      <th>158969</th>\n      <td>DEBUG</td>\n      <td>2023-12-28 21:19:39.701</td>\n      <td>Connection intercepted</td>\n      <td>com.fingersoft.hillclimb</td>\n      <td>610</td>\n      <td>idle</td>\n      <td>False</td>\n      <td>NaN</td>\n      <td>NaN</td>\n      <td>NaN</td>\n      <td>...</td>\n      <td>False</td>\n      <td>[]</td>\n      <td>['BE', 'IS', 'FR', 'FR']</td>\n      <td>['GB', 'GB', 'GB', 'CH']</td>\n      <td>[5, 3, 1, 1]</td>\n      <td>True</td>\n      <td>False</td>\n      <td>NaN</td>\n      <td>False</td>\n      <td>False</td>\n    </tr>\n    <tr>\n      <th>158970</th>\n      <td>DEBUG</td>\n      <td>2023-12-28 21:19:39.701</td>\n      <td>Connection intercepted</td>\n      <td>com.fingersoft.hillclimb</td>\n      <td>610</td>\n      <td>idle</td>\n      <td>False</td>\n      <td>NaN</td>\n      <td>NaN</td>\n      <td>NaN</td>\n      <td>...</td>\n      <td>False</td>\n      <td>[]</td>\n      <td>['BE', 'IS', 'FR', 'FR']</td>\n      <td>['GB', 'GB', 'GB', 'CH']</td>\n      <td>[5, 3, 1, 1]</td>\n      <td>True</td>\n      <td>False</td>\n      <td>NaN</td>\n      <td>False</td>\n      <td>False</td>\n    </tr>\n    <tr>\n      <th>158971</th>\n      <td>DEBUG</td>\n      <td>2023-12-28 21:19:39.701</td>\n      <td>Connection intercepted</td>\n      <td>com.fingersoft.hillclimb</td>\n      <td>610</td>\n      <td>idle</td>\n      <td>False</td>\n      <td>NaN</td>\n      <td>NaN</td>\n      <td>NaN</td>\n      <td>...</td>\n      <td>False</td>\n      <td>[]</td>\n      <td>['BE', 'IS', 'FR', 'FR']</td>\n      <td>['GB', 'GB', 'GB', 'CH']</td>\n      <td>[5, 3, 1, 1]</td>\n      <td>True</td>\n      <td>False</td>\n      <td>NaN</td>\n      <td>False</td>\n      <td>False</td>\n    </tr>\n    <tr>\n      <th>158972</th>\n      <td>DEBUG</td>\n      <td>2023-12-28 21:19:39.701</td>\n      <td>Connection intercepted</td>\n      <td>com.fingersoft.hillclimb</td>\n      <td>610</td>\n      <td>idle</td>\n      <td>False</td>\n      <td>NaN</td>\n      <td>NaN</td>\n      <td>NaN</td>\n      <td>...</td>\n      <td>False</td>\n      <td>[]</td>\n      <td>['BE', 'IS', 'FR', 'FR']</td>\n      <td>['GB', 'GB', 'GB', 'CH']</td>\n      <td>[5, 3, 1, 1]</td>\n      <td>True</td>\n      <td>False</td>\n      <td>NaN</td>\n      <td>False</td>\n      <td>False</td>\n    </tr>\n    <tr>\n      <th>158973</th>\n      <td>DEBUG</td>\n      <td>2023-12-28 21:19:39.701</td>\n      <td>Connection intercepted</td>\n      <td>com.fingersoft.hillclimb</td>\n      <td>610</td>\n      <td>idle</td>\n      <td>False</td>\n      <td>NaN</td>\n      <td>NaN</td>\n      <td>NaN</td>\n      <td>...</td>\n      <td>False</td>\n      <td>[]</td>\n      <td>['BE', 'IS', 'FR', 'FR']</td>\n      <td>['GB', 'GB', 'GB', 'CH']</td>\n      <td>[5, 3, 1, 1]</td>\n      <td>True</td>\n      <td>False</td>\n      <td>NaN</td>\n      <td>False</td>\n      <td>False</td>\n    </tr>\n    <tr>\n      <th>158974</th>\n      <td>DEBUG</td>\n      <td>2023-12-28 21:19:39.701</td>\n      <td>Connection intercepted</td>\n      <td>com.fingersoft.hillclimb</td>\n      <td>610</td>\n      <td>idle</td>\n      <td>False</td>\n      <td>NaN</td>\n      <td>NaN</td>\n      <td>NaN</td>\n      <td>...</td>\n      <td>False</td>\n      <td>[]</td>\n      <td>['BE', 'IS', 'FR', 'FR']</td>\n      <td>['GB', 'GB', 'GB', 'CH']</td>\n      <td>[5, 3, 1, 1]</td>\n      <td>True</td>\n      <td>False</td>\n      <td>NaN</td>\n      <td>False</td>\n      <td>False</td>\n    </tr>\n    <tr>\n      <th>158975</th>\n      <td>DEBUG</td>\n      <td>2023-12-28 21:19:40.560</td>\n      <td>Connection intercepted</td>\n      <td>com.fingersoft.hillclimb</td>\n      <td>610</td>\n      <td>idle</td>\n      <td>False</td>\n      <td>NaN</td>\n      <td>NaN</td>\n      <td>NaN</td>\n      <td>...</td>\n      <td>False</td>\n      <td>[]</td>\n      <td>['BE', 'IS', 'FR', 'FR']</td>\n      <td>['GB', 'GB', 'GB', 'CH']</td>\n      <td>[5, 3, 1, 1]</td>\n      <td>True</td>\n      <td>False</td>\n      <td>NaN</td>\n      <td>False</td>\n      <td>False</td>\n    </tr>\n    <tr>\n      <th>158976</th>\n      <td>DEBUG</td>\n      <td>2023-12-28 21:19:40.560</td>\n      <td>Connection intercepted</td>\n      <td>com.fingersoft.hillclimb</td>\n      <td>610</td>\n      <td>idle</td>\n      <td>False</td>\n      <td>NaN</td>\n      <td>NaN</td>\n      <td>NaN</td>\n      <td>...</td>\n      <td>False</td>\n      <td>[]</td>\n      <td>['BE', 'IS', 'FR', 'FR']</td>\n      <td>['GB', 'GB', 'GB', 'CH']</td>\n      <td>[5, 3, 1, 1]</td>\n      <td>True</td>\n      <td>False</td>\n      <td>NaN</td>\n      <td>False</td>\n      <td>False</td>\n    </tr>\n    <tr>\n      <th>158977</th>\n      <td>DEBUG</td>\n      <td>2023-12-28 21:19:40.560</td>\n      <td>Connection intercepted</td>\n      <td>com.fingersoft.hillclimb</td>\n      <td>610</td>\n      <td>idle</td>\n      <td>False</td>\n      <td>NaN</td>\n      <td>NaN</td>\n      <td>NaN</td>\n      <td>...</td>\n      <td>False</td>\n      <td>[]</td>\n      <td>['BE', 'IS', 'FR', 'FR']</td>\n      <td>['GB', 'GB', 'GB', 'CH']</td>\n      <td>[5, 3, 1, 1]</td>\n      <td>True</td>\n      <td>False</td>\n      <td>NaN</td>\n      <td>False</td>\n      <td>False</td>\n    </tr>\n    <tr>\n      <th>158978</th>\n      <td>DEBUG</td>\n      <td>2023-12-28 21:19:40.560</td>\n      <td>Connection intercepted</td>\n      <td>com.fingersoft.hillclimb</td>\n      <td>610</td>\n      <td>idle</td>\n      <td>False</td>\n      <td>NaN</td>\n      <td>NaN</td>\n      <td>NaN</td>\n      <td>...</td>\n      <td>False</td>\n      <td>[]</td>\n      <td>['BE', 'IS', 'FR', 'FR']</td>\n      <td>['GB', 'GB', 'GB', 'CH']</td>\n      <td>[5, 3, 1, 1]</td>\n      <td>True</td>\n      <td>False</td>\n      <td>NaN</td>\n      <td>False</td>\n      <td>False</td>\n    </tr>\n    <tr>\n      <th>158979</th>\n      <td>DEBUG</td>\n      <td>2023-12-28 21:19:40.560</td>\n      <td>Connection intercepted</td>\n      <td>com.fingersoft.hillclimb</td>\n      <td>610</td>\n      <td>idle</td>\n      <td>False</td>\n      <td>NaN</td>\n      <td>NaN</td>\n      <td>NaN</td>\n      <td>...</td>\n      <td>False</td>\n      <td>[]</td>\n      <td>['BE', 'IS', 'FR', 'FR']</td>\n      <td>['GB', 'GB', 'GB', 'CH']</td>\n      <td>[5, 3, 1, 1]</td>\n      <td>True</td>\n      <td>False</td>\n      <td>NaN</td>\n      <td>False</td>\n      <td>False</td>\n    </tr>\n    <tr>\n      <th>158980</th>\n      <td>DEBUG</td>\n      <td>2023-12-28 21:19:40.560</td>\n      <td>Connection intercepted</td>\n      <td>com.fingersoft.hillclimb</td>\n      <td>610</td>\n      <td>idle</td>\n      <td>False</td>\n      <td>NaN</td>\n      <td>NaN</td>\n      <td>NaN</td>\n      <td>...</td>\n      <td>False</td>\n      <td>[]</td>\n      <td>['BE', 'IS', 'FR', 'FR']</td>\n      <td>['GB', 'GB', 'GB', 'CH']</td>\n      <td>[5, 3, 1, 1]</td>\n      <td>True</td>\n      <td>False</td>\n      <td>NaN</td>\n      <td>False</td>\n      <td>False</td>\n    </tr>\n    <tr>\n      <th>158981</th>\n      <td>DEBUG</td>\n      <td>2023-12-28 21:19:40.560</td>\n      <td>Connection intercepted</td>\n      <td>com.fingersoft.hillclimb</td>\n      <td>610</td>\n      <td>idle</td>\n      <td>False</td>\n      <td>NaN</td>\n      <td>NaN</td>\n      <td>NaN</td>\n      <td>...</td>\n      <td>False</td>\n      <td>[]</td>\n      <td>['BE', 'IS', 'FR', 'FR']</td>\n      <td>['GB', 'GB', 'GB', 'CH']</td>\n      <td>[5, 3, 1, 1]</td>\n      <td>True</td>\n      <td>False</td>\n      <td>NaN</td>\n      <td>False</td>\n      <td>False</td>\n    </tr>\n    <tr>\n      <th>158982</th>\n      <td>DEBUG</td>\n      <td>2023-12-28 21:19:41.386</td>\n      <td>Connection intercepted</td>\n      <td>com.fingersoft.hillclimb</td>\n      <td>610</td>\n      <td>idle</td>\n      <td>False</td>\n      <td>NaN</td>\n      <td>NaN</td>\n      <td>NaN</td>\n      <td>...</td>\n      <td>False</td>\n      <td>[]</td>\n      <td>['BE', 'IS', 'FR', 'FR']</td>\n      <td>['GB', 'GB', 'GB', 'CH']</td>\n      <td>[5, 3, 1, 1]</td>\n      <td>True</td>\n      <td>False</td>\n      <td>NaN</td>\n      <td>False</td>\n      <td>False</td>\n    </tr>\n    <tr>\n      <th>158983</th>\n      <td>DEBUG</td>\n      <td>2023-12-28 21:19:41.386</td>\n      <td>Connection intercepted</td>\n      <td>com.fingersoft.hillclimb</td>\n      <td>610</td>\n      <td>idle</td>\n      <td>False</td>\n      <td>NaN</td>\n      <td>NaN</td>\n      <td>NaN</td>\n      <td>...</td>\n      <td>False</td>\n      <td>[]</td>\n      <td>['BE', 'IS', 'FR', 'FR']</td>\n      <td>['GB', 'GB', 'GB', 'CH']</td>\n      <td>[5, 3, 1, 1]</td>\n      <td>True</td>\n      <td>False</td>\n      <td>NaN</td>\n      <td>False</td>\n      <td>False</td>\n    </tr>\n    <tr>\n      <th>158984</th>\n      <td>DEBUG</td>\n      <td>2023-12-28 21:19:41.386</td>\n      <td>Connection intercepted</td>\n      <td>com.fingersoft.hillclimb</td>\n      <td>610</td>\n      <td>idle</td>\n      <td>False</td>\n      <td>NaN</td>\n      <td>NaN</td>\n      <td>NaN</td>\n      <td>...</td>\n      <td>False</td>\n      <td>[]</td>\n      <td>['BE', 'IS', 'FR', 'FR']</td>\n      <td>['GB', 'GB', 'GB', 'CH']</td>\n      <td>[5, 3, 1, 1]</td>\n      <td>True</td>\n      <td>False</td>\n      <td>NaN</td>\n      <td>False</td>\n      <td>False</td>\n    </tr>\n    <tr>\n      <th>158985</th>\n      <td>DEBUG</td>\n      <td>2023-12-28 21:19:41.386</td>\n      <td>Connection intercepted</td>\n      <td>com.fingersoft.hillclimb</td>\n      <td>610</td>\n      <td>idle</td>\n      <td>False</td>\n      <td>NaN</td>\n      <td>NaN</td>\n      <td>NaN</td>\n      <td>...</td>\n      <td>False</td>\n      <td>[]</td>\n      <td>['BE', 'IS', 'FR', 'FR']</td>\n      <td>['GB', 'GB', 'GB', 'CH']</td>\n      <td>[5, 3, 1, 1]</td>\n      <td>True</td>\n      <td>False</td>\n      <td>NaN</td>\n      <td>False</td>\n      <td>False</td>\n    </tr>\n    <tr>\n      <th>158986</th>\n      <td>DEBUG</td>\n      <td>2023-12-28 21:19:41.386</td>\n      <td>Connection intercepted</td>\n      <td>com.fingersoft.hillclimb</td>\n      <td>610</td>\n      <td>idle</td>\n      <td>False</td>\n      <td>NaN</td>\n      <td>NaN</td>\n      <td>NaN</td>\n      <td>...</td>\n      <td>False</td>\n      <td>[]</td>\n      <td>['BE', 'IS', 'FR', 'FR']</td>\n      <td>['GB', 'GB', 'GB', 'CH']</td>\n      <td>[5, 3, 1, 1]</td>\n      <td>True</td>\n      <td>False</td>\n      <td>NaN</td>\n      <td>False</td>\n      <td>False</td>\n    </tr>\n    <tr>\n      <th>158987</th>\n      <td>DEBUG</td>\n      <td>2023-12-28 21:19:41.386</td>\n      <td>Connection intercepted</td>\n      <td>com.fingersoft.hillclimb</td>\n      <td>610</td>\n      <td>idle</td>\n      <td>False</td>\n      <td>NaN</td>\n      <td>NaN</td>\n      <td>NaN</td>\n      <td>...</td>\n      <td>False</td>\n      <td>[]</td>\n      <td>['BE', 'IS', 'FR', 'FR']</td>\n      <td>['GB', 'GB', 'GB', 'CH']</td>\n      <td>[5, 3, 1, 1]</td>\n      <td>True</td>\n      <td>False</td>\n      <td>NaN</td>\n      <td>False</td>\n      <td>False</td>\n    </tr>\n    <tr>\n      <th>158988</th>\n      <td>DEBUG</td>\n      <td>2023-12-28 21:19:41.386</td>\n      <td>Connection intercepted</td>\n      <td>com.fingersoft.hillclimb</td>\n      <td>610</td>\n      <td>idle</td>\n      <td>False</td>\n      <td>NaN</td>\n      <td>NaN</td>\n      <td>NaN</td>\n      <td>...</td>\n      <td>False</td>\n      <td>[]</td>\n      <td>['BE', 'IS', 'FR', 'FR']</td>\n      <td>['GB', 'GB', 'GB', 'CH']</td>\n      <td>[5, 3, 1, 1]</td>\n      <td>True</td>\n      <td>False</td>\n      <td>NaN</td>\n      <td>False</td>\n      <td>False</td>\n    </tr>\n    <tr>\n      <th>158989</th>\n      <td>DEBUG</td>\n      <td>2023-12-28 21:19:42.244</td>\n      <td>Connection intercepted</td>\n      <td>com.fingersoft.hillclimb</td>\n      <td>610</td>\n      <td>idle</td>\n      <td>False</td>\n      <td>NaN</td>\n      <td>NaN</td>\n      <td>NaN</td>\n      <td>...</td>\n      <td>False</td>\n      <td>[]</td>\n      <td>['BE', 'IS', 'FR', 'FR']</td>\n      <td>['GB', 'GB', 'GB', 'CH']</td>\n      <td>[5, 3, 1, 1]</td>\n      <td>True</td>\n      <td>False</td>\n      <td>NaN</td>\n      <td>False</td>\n      <td>False</td>\n    </tr>\n    <tr>\n      <th>158990</th>\n      <td>DEBUG</td>\n      <td>2023-12-28 21:19:42.244</td>\n      <td>Connection intercepted</td>\n      <td>com.fingersoft.hillclimb</td>\n      <td>610</td>\n      <td>idle</td>\n      <td>False</td>\n      <td>NaN</td>\n      <td>NaN</td>\n      <td>NaN</td>\n      <td>...</td>\n      <td>False</td>\n      <td>[]</td>\n      <td>['BE', 'IS', 'FR', 'FR']</td>\n      <td>['GB', 'GB', 'GB', 'CH']</td>\n      <td>[5, 3, 1, 1]</td>\n      <td>True</td>\n      <td>False</td>\n      <td>NaN</td>\n      <td>False</td>\n      <td>False</td>\n    </tr>\n    <tr>\n      <th>158991</th>\n      <td>DEBUG</td>\n      <td>2023-12-28 21:19:42.244</td>\n      <td>Connection intercepted</td>\n      <td>com.fingersoft.hillclimb</td>\n      <td>610</td>\n      <td>idle</td>\n      <td>False</td>\n      <td>NaN</td>\n      <td>NaN</td>\n      <td>NaN</td>\n      <td>...</td>\n      <td>False</td>\n      <td>[]</td>\n      <td>['BE', 'IS', 'FR', 'FR']</td>\n      <td>['GB', 'GB', 'GB', 'CH']</td>\n      <td>[5, 3, 1, 1]</td>\n      <td>True</td>\n      <td>False</td>\n      <td>NaN</td>\n      <td>False</td>\n      <td>False</td>\n    </tr>\n    <tr>\n      <th>158992</th>\n      <td>DEBUG</td>\n      <td>2023-12-28 21:19:42.244</td>\n      <td>Connection intercepted</td>\n      <td>com.fingersoft.hillclimb</td>\n      <td>610</td>\n      <td>idle</td>\n      <td>False</td>\n      <td>NaN</td>\n      <td>NaN</td>\n      <td>NaN</td>\n      <td>...</td>\n      <td>False</td>\n      <td>[]</td>\n      <td>['BE', 'IS', 'FR', 'FR']</td>\n      <td>['GB', 'GB', 'GB', 'CH']</td>\n      <td>[5, 3, 1, 1]</td>\n      <td>True</td>\n      <td>False</td>\n      <td>NaN</td>\n      <td>False</td>\n      <td>False</td>\n    </tr>\n    <tr>\n      <th>158993</th>\n      <td>DEBUG</td>\n      <td>2023-12-28 21:19:42.244</td>\n      <td>Connection intercepted</td>\n      <td>com.fingersoft.hillclimb</td>\n      <td>610</td>\n      <td>idle</td>\n      <td>False</td>\n      <td>NaN</td>\n      <td>NaN</td>\n      <td>NaN</td>\n      <td>...</td>\n      <td>False</td>\n      <td>[]</td>\n      <td>['BE', 'IS', 'FR', 'FR']</td>\n      <td>['GB', 'GB', 'GB', 'CH']</td>\n      <td>[5, 3, 1, 1]</td>\n      <td>True</td>\n      <td>False</td>\n      <td>NaN</td>\n      <td>False</td>\n      <td>False</td>\n    </tr>\n    <tr>\n      <th>158994</th>\n      <td>DEBUG</td>\n      <td>2023-12-28 21:19:42.244</td>\n      <td>Connection intercepted</td>\n      <td>com.fingersoft.hillclimb</td>\n      <td>610</td>\n      <td>idle</td>\n      <td>False</td>\n      <td>NaN</td>\n      <td>NaN</td>\n      <td>NaN</td>\n      <td>...</td>\n      <td>False</td>\n      <td>[]</td>\n      <td>['BE', 'IS', 'FR', 'FR']</td>\n      <td>['GB', 'GB', 'GB', 'CH']</td>\n      <td>[5, 3, 1, 1]</td>\n      <td>True</td>\n      <td>False</td>\n      <td>NaN</td>\n      <td>False</td>\n      <td>False</td>\n    </tr>\n    <tr>\n      <th>158995</th>\n      <td>DEBUG</td>\n      <td>2023-12-28 21:19:42.244</td>\n      <td>Connection intercepted</td>\n      <td>com.fingersoft.hillclimb</td>\n      <td>610</td>\n      <td>idle</td>\n      <td>False</td>\n      <td>NaN</td>\n      <td>NaN</td>\n      <td>NaN</td>\n      <td>...</td>\n      <td>False</td>\n      <td>[]</td>\n      <td>['BE', 'IS', 'FR', 'FR']</td>\n      <td>['GB', 'GB', 'GB', 'CH']</td>\n      <td>[5, 3, 1, 1]</td>\n      <td>True</td>\n      <td>False</td>\n      <td>NaN</td>\n      <td>False</td>\n      <td>False</td>\n    </tr>\n    <tr>\n      <th>158996</th>\n      <td>DEBUG</td>\n      <td>2023-12-28 21:19:43.089</td>\n      <td>Connection intercepted</td>\n      <td>com.fingersoft.hillclimb</td>\n      <td>610</td>\n      <td>idle</td>\n      <td>False</td>\n      <td>NaN</td>\n      <td>NaN</td>\n      <td>NaN</td>\n      <td>...</td>\n      <td>False</td>\n      <td>[]</td>\n      <td>['BE', 'IS', 'FR', 'FR']</td>\n      <td>['GB', 'GB', 'GB', 'CH']</td>\n      <td>[5, 3, 1, 1]</td>\n      <td>True</td>\n      <td>False</td>\n      <td>NaN</td>\n      <td>False</td>\n      <td>False</td>\n    </tr>\n    <tr>\n      <th>158997</th>\n      <td>DEBUG</td>\n      <td>2023-12-28 21:19:43.089</td>\n      <td>Connection intercepted</td>\n      <td>com.fingersoft.hillclimb</td>\n      <td>610</td>\n      <td>idle</td>\n      <td>False</td>\n      <td>NaN</td>\n      <td>NaN</td>\n      <td>NaN</td>\n      <td>...</td>\n      <td>False</td>\n      <td>[]</td>\n      <td>['BE', 'IS', 'FR', 'FR']</td>\n      <td>['GB', 'GB', 'GB', 'CH']</td>\n      <td>[5, 3, 1, 1]</td>\n      <td>True</td>\n      <td>False</td>\n      <td>NaN</td>\n      <td>False</td>\n      <td>False</td>\n    </tr>\n    <tr>\n      <th>158998</th>\n      <td>DEBUG</td>\n      <td>2023-12-28 21:19:43.089</td>\n      <td>Connection intercepted</td>\n      <td>com.fingersoft.hillclimb</td>\n      <td>610</td>\n      <td>idle</td>\n      <td>False</td>\n      <td>NaN</td>\n      <td>NaN</td>\n      <td>NaN</td>\n      <td>...</td>\n      <td>False</td>\n      <td>[]</td>\n      <td>['BE', 'IS', 'FR', 'FR']</td>\n      <td>['GB', 'GB', 'GB', 'CH']</td>\n      <td>[5, 3, 1, 1]</td>\n      <td>True</td>\n      <td>False</td>\n      <td>NaN</td>\n      <td>False</td>\n      <td>False</td>\n    </tr>\n    <tr>\n      <th>158999</th>\n      <td>DEBUG</td>\n      <td>2023-12-28 21:19:43.089</td>\n      <td>Connection intercepted</td>\n      <td>com.fingersoft.hillclimb</td>\n      <td>610</td>\n      <td>idle</td>\n      <td>False</td>\n      <td>NaN</td>\n      <td>NaN</td>\n      <td>NaN</td>\n      <td>...</td>\n      <td>False</td>\n      <td>[]</td>\n      <td>['BE', 'IS', 'FR', 'FR']</td>\n      <td>['GB', 'GB', 'GB', 'CH']</td>\n      <td>[5, 3, 1, 1]</td>\n      <td>True</td>\n      <td>False</td>\n      <td>NaN</td>\n      <td>False</td>\n      <td>False</td>\n    </tr>\n    <tr>\n      <th>159000</th>\n      <td>DEBUG</td>\n      <td>2023-12-28 21:19:43.089</td>\n      <td>Connection intercepted</td>\n      <td>com.fingersoft.hillclimb</td>\n      <td>610</td>\n      <td>idle</td>\n      <td>False</td>\n      <td>NaN</td>\n      <td>NaN</td>\n      <td>NaN</td>\n      <td>...</td>\n      <td>False</td>\n      <td>[]</td>\n      <td>['BE', 'IS', 'FR', 'FR']</td>\n      <td>['GB', 'GB', 'GB', 'CH']</td>\n      <td>[5, 3, 1, 1]</td>\n      <td>True</td>\n      <td>False</td>\n      <td>NaN</td>\n      <td>False</td>\n      <td>False</td>\n    </tr>\n    <tr>\n      <th>159001</th>\n      <td>DEBUG</td>\n      <td>2023-12-28 21:19:43.089</td>\n      <td>Connection intercepted</td>\n      <td>com.fingersoft.hillclimb</td>\n      <td>610</td>\n      <td>idle</td>\n      <td>False</td>\n      <td>NaN</td>\n      <td>NaN</td>\n      <td>NaN</td>\n      <td>...</td>\n      <td>False</td>\n      <td>[]</td>\n      <td>['BE', 'IS', 'FR', 'FR']</td>\n      <td>['GB', 'GB', 'GB', 'CH']</td>\n      <td>[5, 3, 1, 1]</td>\n      <td>True</td>\n      <td>False</td>\n      <td>NaN</td>\n      <td>False</td>\n      <td>False</td>\n    </tr>\n    <tr>\n      <th>159002</th>\n      <td>DEBUG</td>\n      <td>2023-12-28 21:19:43.089</td>\n      <td>Connection intercepted</td>\n      <td>com.fingersoft.hillclimb</td>\n      <td>610</td>\n      <td>idle</td>\n      <td>False</td>\n      <td>NaN</td>\n      <td>NaN</td>\n      <td>NaN</td>\n      <td>...</td>\n      <td>False</td>\n      <td>[]</td>\n      <td>['BE', 'IS', 'FR', 'FR']</td>\n      <td>['GB', 'GB', 'GB', 'CH']</td>\n      <td>[5, 3, 1, 1]</td>\n      <td>True</td>\n      <td>False</td>\n      <td>NaN</td>\n      <td>False</td>\n      <td>False</td>\n    </tr>\n    <tr>\n      <th>159003</th>\n      <td>DEBUG</td>\n      <td>2023-12-28 21:19:43.920</td>\n      <td>Connection intercepted</td>\n      <td>com.fingersoft.hillclimb</td>\n      <td>610</td>\n      <td>idle</td>\n      <td>False</td>\n      <td>NaN</td>\n      <td>NaN</td>\n      <td>NaN</td>\n      <td>...</td>\n      <td>False</td>\n      <td>[]</td>\n      <td>['BE', 'IS', 'FR', 'FR']</td>\n      <td>['GB', 'GB', 'GB', 'CH']</td>\n      <td>[5, 3, 1, 1]</td>\n      <td>True</td>\n      <td>False</td>\n      <td>NaN</td>\n      <td>False</td>\n      <td>False</td>\n    </tr>\n    <tr>\n      <th>159004</th>\n      <td>DEBUG</td>\n      <td>2023-12-28 21:19:43.920</td>\n      <td>Connection intercepted</td>\n      <td>com.fingersoft.hillclimb</td>\n      <td>610</td>\n      <td>idle</td>\n      <td>False</td>\n      <td>NaN</td>\n      <td>NaN</td>\n      <td>NaN</td>\n      <td>...</td>\n      <td>False</td>\n      <td>[]</td>\n      <td>['BE', 'IS', 'FR', 'FR']</td>\n      <td>['GB', 'GB', 'GB', 'CH']</td>\n      <td>[5, 3, 1, 1]</td>\n      <td>True</td>\n      <td>False</td>\n      <td>NaN</td>\n      <td>False</td>\n      <td>False</td>\n    </tr>\n    <tr>\n      <th>159005</th>\n      <td>DEBUG</td>\n      <td>2023-12-28 21:19:43.920</td>\n      <td>Connection intercepted</td>\n      <td>com.fingersoft.hillclimb</td>\n      <td>610</td>\n      <td>idle</td>\n      <td>False</td>\n      <td>NaN</td>\n      <td>NaN</td>\n      <td>NaN</td>\n      <td>...</td>\n      <td>False</td>\n      <td>[]</td>\n      <td>['BE', 'IS', 'FR', 'FR']</td>\n      <td>['GB', 'GB', 'GB', 'CH']</td>\n      <td>[5, 3, 1, 1]</td>\n      <td>True</td>\n      <td>False</td>\n      <td>NaN</td>\n      <td>False</td>\n      <td>False</td>\n    </tr>\n    <tr>\n      <th>159006</th>\n      <td>DEBUG</td>\n      <td>2023-12-28 21:19:43.920</td>\n      <td>Connection intercepted</td>\n      <td>com.fingersoft.hillclimb</td>\n      <td>610</td>\n      <td>idle</td>\n      <td>False</td>\n      <td>NaN</td>\n      <td>NaN</td>\n      <td>NaN</td>\n      <td>...</td>\n      <td>False</td>\n      <td>[]</td>\n      <td>['BE', 'IS', 'FR', 'FR']</td>\n      <td>['GB', 'GB', 'GB', 'CH']</td>\n      <td>[5, 3, 1, 1]</td>\n      <td>True</td>\n      <td>False</td>\n      <td>NaN</td>\n      <td>False</td>\n      <td>False</td>\n    </tr>\n    <tr>\n      <th>159007</th>\n      <td>DEBUG</td>\n      <td>2023-12-28 21:19:43.920</td>\n      <td>Connection intercepted</td>\n      <td>com.fingersoft.hillclimb</td>\n      <td>610</td>\n      <td>idle</td>\n      <td>False</td>\n      <td>NaN</td>\n      <td>NaN</td>\n      <td>NaN</td>\n      <td>...</td>\n      <td>False</td>\n      <td>[]</td>\n      <td>['BE', 'IS', 'FR', 'FR']</td>\n      <td>['GB', 'GB', 'GB', 'CH']</td>\n      <td>[5, 3, 1, 1]</td>\n      <td>True</td>\n      <td>False</td>\n      <td>NaN</td>\n      <td>False</td>\n      <td>False</td>\n    </tr>\n    <tr>\n      <th>159008</th>\n      <td>DEBUG</td>\n      <td>2023-12-28 21:19:43.920</td>\n      <td>Connection intercepted</td>\n      <td>com.fingersoft.hillclimb</td>\n      <td>610</td>\n      <td>idle</td>\n      <td>False</td>\n      <td>NaN</td>\n      <td>NaN</td>\n      <td>NaN</td>\n      <td>...</td>\n      <td>False</td>\n      <td>[]</td>\n      <td>['BE', 'IS', 'FR', 'FR']</td>\n      <td>['GB', 'GB', 'GB', 'CH']</td>\n      <td>[5, 3, 1, 1]</td>\n      <td>True</td>\n      <td>False</td>\n      <td>NaN</td>\n      <td>False</td>\n      <td>False</td>\n    </tr>\n    <tr>\n      <th>159009</th>\n      <td>DEBUG</td>\n      <td>2023-12-28 21:19:43.920</td>\n      <td>Connection intercepted</td>\n      <td>com.fingersoft.hillclimb</td>\n      <td>610</td>\n      <td>idle</td>\n      <td>False</td>\n      <td>NaN</td>\n      <td>NaN</td>\n      <td>NaN</td>\n      <td>...</td>\n      <td>False</td>\n      <td>[]</td>\n      <td>['BE', 'IS', 'FR', 'FR']</td>\n      <td>['GB', 'GB', 'GB', 'CH']</td>\n      <td>[5, 3, 1, 1]</td>\n      <td>True</td>\n      <td>False</td>\n      <td>NaN</td>\n      <td>False</td>\n      <td>False</td>\n    </tr>\n  </tbody>\n</table>\n<p>42 rows × 40 columns</p>\n</div>"
     },
     "execution_count": 38,
     "metadata": {},
     "output_type": "execute_result"
    }
   ],
   "source": [
    "downloads = anycast_pii_traffic_logs_analysis_df.loc[\n",
    "    (anycast_pii_traffic_logs_analysis_df[\"apk_it_gdpr_compliance\"] == False) &\n",
    "    (anycast_pii_traffic_logs_analysis_df[\"android_numDownloads\"] == \"1B+\")\n",
    "][\"apk\"].unique().tolist()\n",
    "print(downloads)\n",
    "\n",
    "apk = anycast_pii_traffic_logs_analysis_df.loc[\n",
    "    (anycast_pii_traffic_logs_analysis_df[\"apk\"] == \"com.fingersoft.hillclimb\")\n",
    "]\n",
    "apk"
   ],
   "metadata": {
    "collapsed": false,
    "ExecuteTime": {
     "end_time": "2024-04-02T10:20:56.187348Z",
     "start_time": "2024-04-02T10:20:56.141746Z"
    }
   },
   "id": "107b82f139d28224",
   "execution_count": 38
  },
  {
   "cell_type": "code",
   "outputs": [],
   "source": [
    "apk.to_csv(f\"{REPLICATION_PACKAGE_DIR}/partial_result.csv\", sep=\",\", index=False)"
   ],
   "metadata": {
    "collapsed": false,
    "ExecuteTime": {
     "end_time": "2024-04-02T10:21:00.838316Z",
     "start_time": "2024-04-02T10:21:00.834928Z"
    }
   },
   "id": "329379bb7eb18881",
   "execution_count": 39
  }
 ],
 "metadata": {
  "kernelspec": {
   "display_name": "Python 3",
   "language": "python",
   "name": "python3"
  },
  "language_info": {
   "codemirror_mode": {
    "name": "ipython",
    "version": 2
   },
   "file_extension": ".py",
   "mimetype": "text/x-python",
   "name": "python",
   "nbconvert_exporter": "python",
   "pygments_lexer": "ipython2",
   "version": "2.7.6"
  }
 },
 "nbformat": 4,
 "nbformat_minor": 5
}
