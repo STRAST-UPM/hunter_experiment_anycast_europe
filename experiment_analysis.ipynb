{
 "cells": [
  {
   "cell_type": "markdown",
   "source": [
    "# Experiment Mesh Analysis\n"
   ],
   "metadata": {
    "collapsed": false
   },
   "id": "c1ecc4b83731736b"
  },
  {
   "cell_type": "code",
   "execution_count": 1,
   "outputs": [],
   "source": [
    "# external imports\n",
    "import pandas as pd\n",
    "import requests\n",
    "from shapely import (\n",
    "    Point, from_geojson, to_geojson\n",
    ")"
   ],
   "metadata": {
    "collapsed": false,
    "ExecuteTime": {
     "end_time": "2024-03-06T15:23:29.659291Z",
     "start_time": "2024-03-06T15:23:29.481844Z"
    }
   },
   "id": "c8df69fe46cac602"
  },
  {
   "cell_type": "code",
   "execution_count": 2,
   "outputs": [],
   "source": [
    "# internal imports\n",
    "from src.utils.common_functions import (\n",
    "    json_file_to_dict,\n",
    "    get_list_files_in_path,\n",
    ")\n",
    "from src.utils.constants import (\n",
    "    RIPE_ATLAS_PROBES_BASE_URL,\n",
    "    EEE_MESH_3_FILEPATH,\n",
    "    EEE_COUNTRIES_FILEPATH,\n",
    "    REPLICATION_PACKAGE_DIR,\n",
    "    TRAFFIC_LOGS_IP_CLASSIFIED_FILEPATH,\n",
    "    ANYCAST_PII_TRAFFIC_LOGS_FILEPATH,\n",
    "    APKS_METADATA_FILEPATH,\n",
    "    RESULTS_MODES\n",
    ")"
   ],
   "metadata": {
    "collapsed": false,
    "ExecuteTime": {
     "end_time": "2024-03-06T15:23:29.995359Z",
     "start_time": "2024-03-06T15:23:29.991428Z"
    }
   },
   "id": "69d16f8da4f9071f"
  },
  {
   "cell_type": "code",
   "execution_count": 3,
   "outputs": [],
   "source": [
    "# Constants\n",
    "EEE_countries_set = set([country[\"alpha-2\"] for country in json_file_to_dict(EEE_COUNTRIES_FILEPATH)])"
   ],
   "metadata": {
    "collapsed": false,
    "ExecuteTime": {
     "end_time": "2024-03-06T15:23:30.607117Z",
     "start_time": "2024-03-06T15:23:30.604510Z"
    }
   },
   "id": "adb458e6157c0f69"
  },
  {
   "cell_type": "code",
   "execution_count": 17,
   "outputs": [],
   "source": [
    "# Analysis params\n",
    "DESTINATION_REPETITIONS_LIMIT = 1\n",
    "ANALYSIS_MODE=RESULTS_MODES[0]\n",
    "GENERATE=True"
   ],
   "metadata": {
    "collapsed": false,
    "ExecuteTime": {
     "end_time": "2024-03-04T13:14:31.315656Z",
     "start_time": "2024-03-04T13:14:31.306359Z"
    }
   },
   "id": "690c1391498feefb"
  },
  {
   "cell_type": "code",
   "execution_count": 18,
   "outputs": [],
   "source": [
    "# Filepaths variables\n",
    "EXPERIMENT_RESULTS_FOLDER = f\"{REPLICATION_PACKAGE_DIR}/experiment_results_{ANALYSIS_MODE}\"\n",
    "ANALYSIS_FOLDER = f\"{REPLICATION_PACKAGE_DIR}/analysis_{ANALYSIS_MODE}\""
   ],
   "metadata": {
    "collapsed": false,
    "ExecuteTime": {
     "end_time": "2024-03-04T13:14:31.330424Z",
     "start_time": "2024-03-04T13:14:31.316912Z"
    }
   },
   "id": "759dc69c48ceb4bd"
  },
  {
   "cell_type": "markdown",
   "source": [
    "## DELETE??"
   ],
   "metadata": {
    "collapsed": false
   },
   "id": "bf74fcddd2d189d8"
  },
  {
   "cell_type": "code",
   "outputs": [],
   "source": [
    "ROUTES_RAW_FILENAME = f\"{ANALYSIS_FOLDER}/routes_raw_{ANALYSIS_MODE}.csv\"\n",
    "ROUTES_FREQUENCY_FILENAME = f\"{ANALYSIS_FOLDER}/routes_frequency_{ANALYSIS_MODE}.csv\"\n",
    "ANALYSIS_EXPERIMENT_FILEPATH = f\"{ANALYSIS_FOLDER}/analysis_results_repetitions_{DESTINATION_REPETITIONS_LIMIT}_{ANALYSIS_MODE}.csv\"\n",
    "ANALYSIS_OUT_EEE_EXPERIMENT_FILEPATH = f\"{ANALYSIS_FOLDER}/analysis_results_out_EEE_repetitions_{DESTINATION_REPETITIONS_LIMIT}_{ANALYSIS_MODE}.csv\"\n",
    "ANALYSIS_OUT_EEE_METADATA_EXPERIMENT_FILEPATH = f\"{ANALYSIS_FOLDER}/analysis_results_out_EEE_metadata_repetitions_{DESTINATION_REPETITIONS_LIMIT}_{ANALYSIS_MODE}.csv\""
   ],
   "metadata": {
    "collapsed": false
   },
   "id": "e73340d20ce65583"
  },
  {
   "cell_type": "markdown",
   "source": [
    "## Enrichemnt of data and generation of datasets"
   ],
   "metadata": {
    "collapsed": false
   },
   "id": "50b5569c9c01bcd1"
  },
  {
   "cell_type": "markdown",
   "source": [
    "Dataset of IPs analyzed (anycast with PII) to work with and complete"
   ],
   "metadata": {
    "collapsed": false
   },
   "id": "81a167b67af6b824"
  },
  {
   "cell_type": "code",
   "outputs": [],
   "source": [
    "anycast_pii_traffic_logs_df = pd.read_csv(ANYCAST_PII_TRAFFIC_LOGS_FILEPATH, sep=\",\")"
   ],
   "metadata": {
    "collapsed": false,
    "ExecuteTime": {
     "end_time": "2024-03-04T13:14:32.241081Z",
     "start_time": "2024-03-04T13:14:31.331192Z"
    }
   },
   "id": "d87cd4da1c289aef",
   "execution_count": 19
  },
  {
   "cell_type": "markdown",
   "source": [
    "### Routes resume data extraction"
   ],
   "metadata": {
    "collapsed": false
   },
   "id": "cf4dbceceb44eff8"
  },
  {
   "cell_type": "code",
   "outputs": [],
   "source": [
    "# Results extraction\n",
    "def get_probe_location(probe_id: int, origin_list: []) -> (float, float):\n",
    "    for origin in origin_list:\n",
    "        if probe_id == origin[\"probe_id\"]:\n",
    "            location = from_geojson(origin[\"location\"])\n",
    "            return location.y, location.x\n",
    "        else:\n",
    "            continue\n",
    "    return 0,0\n",
    "\n",
    "def get_result_country_route(hunter_result: dict) -> dict:\n",
    "    probe_id = hunter_result[\"origin_id\"]\n",
    "    result_country = hunter_result[\"location_result\"][\"country\"]\n",
    "    probe_country = hunter_result[\"origin_country_code\"]\n",
    "    \n",
    "    return {\n",
    "        \"origin_id\": probe_id,\n",
    "        \"origin_country\": probe_country,\n",
    "        \"result_country\": result_country\n",
    "    }"
   ],
   "metadata": {
    "collapsed": false
   },
   "id": "5a39fc43f6664734",
   "execution_count": 20
  },
  {
   "cell_type": "markdown",
   "source": [
    "TODO"
   ],
   "metadata": {
    "collapsed": false
   },
   "id": "cd35dd291d4ee8bd"
  },
  {
   "cell_type": "code",
   "execution_count": 21,
   "outputs": [],
   "source": [
    "def generate_routes_raw():\n",
    "    routes_raw_df = pd.DataFrame(columns=[\"target\", \"probe_id\", \"origin_country\", \"result_country\", \"result_filename\", \"outside_EEE\"])\n",
    "    for result_filename in get_list_files_in_path(EXPERIMENT_RESULTS_FOLDER):\n",
    "        print(result_filename)\n",
    "        result = json_file_to_dict(f\"{EXPERIMENT_RESULTS_FOLDER}/{result_filename}\")\n",
    "        target = result[\"target\"]\n",
    "        for hunter_result in result[\"hunter_results\"]:\n",
    "            route = get_result_country_route(hunter_result)\n",
    "            probe_id = hunter_result[\"origin_id\"]\n",
    "            origin_country = route[\"origin_country\"]\n",
    "            result_country = route[\"result_country\"]\n",
    "            outside_eee = (result_country not in EEE_countries_set) and (result_country != \"Indeterminate\")\n",
    "                    \n",
    "            routes_raw_df = pd.concat(\n",
    "                [pd.DataFrame([[\n",
    "                    target, probe_id, origin_country, result_country, result_filename, outside_eee\n",
    "                ]], columns=routes_raw_df.columns), routes_raw_df], \n",
    "                ignore_index=True\n",
    "            )\n",
    "    # Sort and save\n",
    "    routes_raw_df.sort_values(by=[\"target\", \"origin_country\", \"result_country\"], inplace=True)\n",
    "    routes_raw_df.to_csv(ROUTES_RAW_FILENAME, sep=\",\", index=False)\n"
   ],
   "metadata": {
    "collapsed": false,
    "ExecuteTime": {
     "end_time": "2024-03-04T13:14:32.260117Z",
     "start_time": "2024-03-04T13:14:32.245405Z"
    }
   },
   "id": "3a4a5ff135ebc9cc"
  },
  {
   "cell_type": "markdown",
   "source": [
    "Aggregate and count routes repetitions"
   ],
   "metadata": {
    "collapsed": false
   },
   "id": "2905481c5a38b1ac"
  },
  {
   "cell_type": "code",
   "outputs": [],
   "source": [
    "def generate_routes_frequency_aggregation():\n",
    "    # Aggregate routes counting the repetitions\n",
    "    routes_frequency_df = pd.read_csv(ROUTES_RAW_FILENAME, sep=\",\")\n",
    "    routes_frequency_df.drop(columns=[\"probe_id\", \"outside_EEE\", \"result_filename\"], inplace=True)\n",
    "    routes_frequency_df = routes_frequency_df.value_counts(subset=['target', 'origin_country', 'result_country'])\n",
    "    routes_frequency_df.to_csv(ROUTES_FREQUENCY_FILENAME, sep=\",\")\n",
    "\n",
    "    # Include the info about outside the EEE\n",
    "    routes_frequency_df = pd.read_csv(ROUTES_FREQUENCY_FILENAME, sep=\",\")\n",
    "    routes_frequency_df[\"outside_EEE\"] = False\n",
    "    \n",
    "    for index, row in routes_frequency_df.iterrows():\n",
    "        result_country = row[\"result_country\"]\n",
    "        routes_frequency_df.loc[index, \"outside_EEE\"] = (result_country not in EEE_countries_set) and (result_country != \"Indeterminate\")\n",
    "    \n",
    "    routes_frequency_df.sort_values(by=[\"target\", \"origin_country\", \"result_country\"], inplace=True)\n",
    "    routes_frequency_df.to_csv(ROUTES_FREQUENCY_FILENAME, sep=\",\", index=False)"
   ],
   "metadata": {
    "collapsed": false,
    "ExecuteTime": {
     "end_time": "2024-03-04T13:14:32.270837Z",
     "start_time": "2024-03-04T13:14:32.261021Z"
    }
   },
   "id": "1ef13530479b1cbb",
   "execution_count": 22
  },
  {
   "cell_type": "markdown",
   "source": [
    "Introduce routes outside EEE and its count in the complete dataset"
   ],
   "metadata": {
    "collapsed": false
   },
   "id": "b51ebb6a53d3489d"
  },
  {
   "cell_type": "code",
   "outputs": [],
   "source": [
    "def populate_complete_dataset_with_routes_results(traffic_complete_df: pd.DataFrame):\n",
    "    routes_valid_df = pd.read_csv(ROUTES_FREQUENCY_FILENAME, sep=\",\")\n",
    "    routes_valid_df = routes_valid_df.loc[\n",
    "        (routes_valid_df[\"outside_EEE\"] == True) & \n",
    "        (routes_valid_df[\"count\"] >= DESTINATION_REPETITIONS_LIMIT)\n",
    "    ]\n",
    "    \n",
    "    routes_valid_dict = {}\n",
    "    for index, row in routes_valid_df.iterrows():\n",
    "        target = row[\"target\"]\n",
    "        if target not in routes_valid_dict.keys():\n",
    "            routes_valid_dict[row[\"target\"]] = {\n",
    "                \"origins\": [],\n",
    "                \"destinations\": [],\n",
    "                \"count\": []\n",
    "            }\n",
    "        \n",
    "        routes_valid_dict[target][\"origins\"].append(row[\"origin_country\"])\n",
    "        routes_valid_dict[target][\"destinations\"].append(row[\"result_country\"])\n",
    "        routes_valid_dict[target][\"count\"].append(str(row[\"count\"]))\n",
    "    \n",
    "    # Charge routes in the complete dataset\n",
    "    traffic_complete_df[\"origins\"] = \"\"\n",
    "    traffic_complete_df[\"destinations_outside_EEE\"] = \"\"\n",
    "    traffic_complete_df[\"routes_count\"] = \"\"\n",
    "    traffic_complete_df[\"outside_EEE\"] = False\n",
    "    \n",
    "    for target in routes_valid_dict.keys():\n",
    "        traffic_complete_df.loc[\n",
    "            (traffic_complete_df[\"ip_dest\"] == target), [\"origins\"]\n",
    "        ] = \",\".join(routes_valid_dict[target][\"origins\"])\n",
    "        traffic_complete_df.loc[\n",
    "            (traffic_complete_df[\"ip_dest\"] == target), [\"destinations_outside_EEE\"]\n",
    "        ] = \",\".join(routes_valid_dict[target][\"destinations\"])\n",
    "        traffic_complete_df.loc[\n",
    "            (traffic_complete_df[\"ip_dest\"] == target), [\"routes_count\"]\n",
    "        ] = \",\".join(routes_valid_dict[target][\"count\"])\n",
    "        traffic_complete_df.loc[\n",
    "            (traffic_complete_df[\"ip_dest\"] == target), [\"outside_EEE\"]\n",
    "        ] = True\n"
   ],
   "metadata": {
    "collapsed": false,
    "ExecuteTime": {
     "end_time": "2024-03-04T13:14:32.286149Z",
     "start_time": "2024-03-04T13:14:32.272113Z"
    }
   },
   "id": "c5fdd5566a17a165",
   "execution_count": 23
  },
  {
   "cell_type": "markdown",
   "source": [
    "Save data with all the analysis"
   ],
   "metadata": {
    "collapsed": false
   },
   "id": "8f23ffaf42779f8b"
  },
  {
   "cell_type": "code",
   "execution_count": 24,
   "outputs": [],
   "source": [
    "# Beacuse is a long process and is only necessary  to run once I include the condition\n",
    "if GENERATE:\n",
    "    # Get the original data of traffic interception\n",
    "    anycast_traffic_df = pd.read_csv(ANYCAST_PII_TRAFFIC_LOGS_FILEPATH, sep=\",\")\n",
    "    # Generate the results\n",
    "    generate_routes_raw()\n",
    "    generate_routes_frequency_aggregation()\n",
    "    populate_complete_dataset_with_routes_results(anycast_traffic_df)\n",
    "    \n",
    "    # Save the dataset populated, both with and without outside_EEE traffic\n",
    "    anycast_traffic_df.to_csv(ANALYSIS_EXPERIMENT_FILEPATH, sep=\",\", index=False)\n",
    "    anycast_traffic_out_EEE_df = anycast_traffic_df.loc[(anycast_traffic_df[\"outside_EEE\"] == True)]\n",
    "    anycast_traffic_out_EEE_df.to_csv(ANALYSIS_OUT_EEE_EXPERIMENT_FILEPATH, sep=\",\", index=False)"
   ],
   "metadata": {
    "collapsed": false,
    "ExecuteTime": {
     "end_time": "2024-03-04T13:14:32.300828Z",
     "start_time": "2024-03-04T13:14:32.287202Z"
    }
   },
   "id": "ab9bacd90bf3ec16"
  },
  {
   "cell_type": "markdown",
   "source": [
    "## Statistics of results"
   ],
   "metadata": {
    "collapsed": false
   },
   "id": "97a63ca17eece79"
  },
  {
   "cell_type": "code",
   "execution_count": 25,
   "outputs": [
    {
     "name": "stdout",
     "output_type": "stream",
     "text": [
      "Number of APKs:  5759\n",
      "Number of anycast APKs:  1323\n",
      "Percentage of anycast APKs:  22.972738322625457\n",
      "Number of IPs:  5647\n",
      "Number of anycast IPs:  218\n",
      "Percentage of anycast IPs:  3.8604568797591643\n"
     ]
    }
   ],
   "source": [
    "traffic_complete_apks = pd.read_csv(TRAFFIC_LOGS_IP_CLASSIFIED_FILEPATH, sep=\",\")[\"apk\"].unique().tolist()\n",
    "anycast_traffic_apks = pd.read_csv(ANYCAST_PII_TRAFFIC_LOGS_FILEPATH, sep=\",\")[\"apk\"].unique().tolist()\n",
    "\n",
    "print(\"Number of APKs: \", len(traffic_complete_apks))\n",
    "print(\"Number of anycast APKs: \", len(anycast_traffic_apks))\n",
    "print(\"Percentage of anycast APKs: \", (len(anycast_traffic_apks)/len(traffic_complete_apks))*100)\n",
    "\n",
    "traffic_complete_ips = pd.read_csv(TRAFFIC_LOGS_IP_CLASSIFIED_FILEPATH, sep=\",\")[\"ip_dest\"].unique().tolist()\n",
    "anycast_traffic_ips = pd.read_csv(ANYCAST_PII_TRAFFIC_LOGS_FILEPATH, sep=\",\")[\"ip_dest\"].unique().tolist()\n",
    "\n",
    "print(\"Number of IPs: \", len(traffic_complete_ips))\n",
    "print(\"Number of anycast IPs: \", len(anycast_traffic_ips))\n",
    "print(\"Percentage of anycast IPs: \", (len(anycast_traffic_ips)/len(traffic_complete_ips))*100)"
   ],
   "metadata": {
    "collapsed": false,
    "ExecuteTime": {
     "end_time": "2024-03-04T13:14:33.680278Z",
     "start_time": "2024-03-04T13:14:32.301558Z"
    }
   },
   "id": "a71402cea1f52f24"
  },
  {
   "cell_type": "code",
   "outputs": [
    {
     "name": "stdout",
     "output_type": "stream",
     "text": [
      "Result mode:  first_ip\n",
      "Number of apks:  1323\n",
      "Number of apks out of EEE:  1313\n",
      "Percentage of apks out of EEE:  99.24414210128496\n",
      "Number of hosts:  362\n",
      "Number of hosts out of EEE:  351\n",
      "Percentage of apks out of EEE:  96.96132596685084\n",
      "Number of ips:  218\n",
      "Number of ips out of EEE:  214\n",
      "Percentage of apks out of EEE:  98.1651376146789\n",
      "##########################################\n"
     ]
    }
   ],
   "source": [
    "analysis_df = pd.read_csv(ANALYSIS_EXPERIMENT_FILEPATH, sep=\",\")\n",
    "apks_list = analysis_df[\"apk\"].unique().tolist()\n",
    "hosts_list = analysis_df[\"host\"].unique().tolist()\n",
    "ips_list = analysis_df[\"ip_dest\"].unique().tolist()\n",
    "\n",
    "apks_out_EEE_list = analysis_df.loc[\n",
    "    analysis_df[\"outside_EEE\"] == True\n",
    "][\"apk\"].unique().tolist()\n",
    "hosts_out_EEE_list = analysis_df.loc[\n",
    "    analysis_df[\"outside_EEE\"] == True\n",
    "][\"host\"].unique().tolist()\n",
    "ips_out_EEE_list = analysis_df.loc[\n",
    "    analysis_df[\"outside_EEE\"] == True\n",
    "][\"ip_dest\"].unique().tolist()\n",
    "\n",
    "print(\"Result mode: \", ANALYSIS_MODE)\n",
    "print(\"Number of apks: \", len(apks_list))\n",
    "print(\"Number of apks out of EEE: \", len(apks_out_EEE_list))\n",
    "print(\"Percentage of apks out of EEE: \", (len(apks_out_EEE_list) / len(apks_list))*100)\n",
    "print(\"Number of hosts: \", len(hosts_list))\n",
    "print(\"Number of hosts out of EEE: \", len(hosts_out_EEE_list))\n",
    "print(\"Percentage of apks out of EEE: \", (len(hosts_out_EEE_list) / len(hosts_list))*100)\n",
    "print(\"Number of ips: \", len(ips_list))\n",
    "print(\"Number of ips out of EEE: \", len(ips_out_EEE_list))\n",
    "print(\"Percentage of apks out of EEE: \", (len(ips_out_EEE_list) / len(ips_list))*100)\n",
    "print(\"##########################################\")"
   ],
   "metadata": {
    "collapsed": false,
    "ExecuteTime": {
     "end_time": "2024-03-04T13:14:33.771568Z",
     "start_time": "2024-03-04T13:14:33.681252Z"
    }
   },
   "id": "d49a4820c818225d",
   "execution_count": 26
  },
  {
   "cell_type": "markdown",
   "source": [
    "## Generate other data"
   ],
   "metadata": {
    "collapsed": false
   },
   "id": "39cc76e73e2d57f7"
  },
  {
   "cell_type": "code",
   "outputs": [],
   "source": [
    "# Generate CSV with hosts for David\n",
    "pd.DataFrame(hosts_list, columns=[\"host\"]).to_csv(f\"{ANALYSIS_FOLDER}/hosts_{ANALYSIS_MODE}.csv\", sep=\",\", index=False)\n",
    "pd.DataFrame(hosts_out_EEE_list, columns=[\"host\"]).to_csv(f\"{ANALYSIS_FOLDER}/hosts_out_EEE_{ANALYSIS_MODE}.csv\", sep=\",\", index=False)"
   ],
   "metadata": {
    "collapsed": false,
    "ExecuteTime": {
     "end_time": "2024-03-04T13:14:33.776287Z",
     "start_time": "2024-03-04T13:14:33.772247Z"
    }
   },
   "id": "71eab15a2c3f409",
   "execution_count": 27
  },
  {
   "cell_type": "markdown",
   "source": [
    "## Complete dataset"
   ],
   "metadata": {
    "collapsed": false
   },
   "id": "b11a47ec25b192cb"
  },
  {
   "cell_type": "markdown",
   "source": [
    "Metadata from Play Store"
   ],
   "metadata": {
    "collapsed": false
   },
   "id": "4ec6901f0b26161f"
  },
  {
   "cell_type": "code",
   "outputs": [
    {
     "name": "stderr",
     "output_type": "stream",
     "text": [
      "/tmp/ipykernel_24628/4290879837.py:11: FutureWarning: Setting an item of incompatible dtype is deprecated and will raise an error in a future version of pandas. Value '100K+' has dtype incompatible with float64, please explicitly cast to a compatible dtype first.\n",
      "  anycast_analysis_out_EEE_df.loc[\n",
      "/tmp/ipykernel_24628/4290879837.py:15: FutureWarning: Setting an item of incompatible dtype is deprecated and will raise an error in a future version of pandas. Value 'News & Magazines' has dtype incompatible with float64, please explicitly cast to a compatible dtype first.\n",
      "  anycast_analysis_out_EEE_df.loc[\n"
     ]
    }
   ],
   "source": [
    "original_complete_metadata_df = pd.read_csv(COMPLETE_DATA_METADATA_FILEPATH)\n",
    "original_complete_metadata_df.drop_duplicates([\"apk\"], inplace=True)\n",
    "\n",
    "anycast_analysis_out_EEE_df = pd.read_csv(ANALYSIS_OUT_EEE_EXPERIMENT_FILEPATH)\n",
    "\n",
    "for index, row in original_complete_metadata_df.iterrows():\n",
    "    anycast_analysis_out_EEE_df.loc[\n",
    "        anycast_analysis_out_EEE_df[\"apk\"] == row[\"apk\"], \"android_rating\"\n",
    "    ] = row[\"android_rating\"]\n",
    "\n",
    "    anycast_analysis_out_EEE_df.loc[\n",
    "        anycast_analysis_out_EEE_df[\"apk\"] == row[\"apk\"], \"android_numDownloads\"\n",
    "    ] = row[\"android_numDownloads\"]\n",
    "\n",
    "    anycast_analysis_out_EEE_df.loc[\n",
    "        anycast_analysis_out_EEE_df[\"apk\"] == row[\"apk\"], \"android_category\"\n",
    "    ] = row[\"android_category\"]\n",
    "\n",
    "\n",
    "anycast_analysis_out_EEE_df.to_csv(ANALYSIS_OUT_EEE_METADATA_EXPERIMENT_FILEPATH, sep=\",\", index=False)"
   ],
   "metadata": {
    "collapsed": false,
    "ExecuteTime": {
     "end_time": "2024-03-04T13:14:47.802867Z",
     "start_time": "2024-03-04T13:14:33.777072Z"
    }
   },
   "id": "20ea296078aede9a",
   "execution_count": 28
  },
  {
   "cell_type": "markdown",
   "source": [
    "## Analysis questions\n",
    "\n",
    "Answers to the questions needed for the article\n",
    "\n",
    "Acronyms:\n",
    "- PII = Personal Identificable Information"
   ],
   "metadata": {
    "collapsed": false
   },
   "id": "1bd3273fca7aeeaa"
  },
  {
   "cell_type": "markdown",
   "source": [
    "**IPs analysis**"
   ],
   "metadata": {
    "collapsed": false
   },
   "id": "88555225610e9127"
  },
  {
   "cell_type": "code",
   "outputs": [
    {
     "name": "stdout",
     "output_type": "stream",
     "text": [
      "Number of IPs in traffic logs: 5647\n",
      "Number of IPs with PII: 1807\n",
      "Number of IPs anycast: 991\n",
      "Number of IPs anycast with PII: 200\n"
     ]
    }
   ],
   "source": [
    "all_traffic_logs_df = pd.read_csv(TRAFFIC_LOGS_IP_CLASSIFIED_FILEPATH, sep=\",\")\n",
    "\n",
    "ips_total = all_traffic_logs_df[\"ip_dest\"].unique().tolist()\n",
    "print(f\"Number of IPs in traffic logs: {len(ips_total)}\")\n",
    "\n",
    "ips_total_pii = all_traffic_logs_df.loc[\n",
    "    (all_traffic_logs_df[\"PII\"] != \"No-PII\") &\n",
    "    (all_traffic_logs_df[\"PII\"].notna())\n",
    "][\"ip_dest\"].unique().tolist()\n",
    "print(f\"Number of IPs with PII: {len(ips_total_pii)}\")\n",
    "\n",
    "ips_anycast = all_traffic_logs_df.loc[\n",
    "    all_traffic_logs_df[\"ip_anycast\"]\n",
    "][\"ip_dest\"].unique().tolist()\n",
    "print(f\"Number of IPs anycast: {len(ips_anycast)}\")\n",
    "\n",
    "ips_anycast_pii = all_traffic_logs_df.loc[\n",
    "    (all_traffic_logs_df[\"ip_anycast\"]) &\n",
    "    (all_traffic_logs_df[\"PII\"] != \"No-PII\") &\n",
    "    (all_traffic_logs_df[\"PII\"].notna())\n",
    "][\"ip_dest\"].unique().tolist()\n",
    "print(f\"Number of IPs anycast with PII: {len(ips_anycast_pii)}\")"
   ],
   "metadata": {
    "collapsed": false,
    "ExecuteTime": {
     "end_time": "2024-03-06T14:48:30.193766Z",
     "start_time": "2024-03-06T14:48:29.439178Z"
    }
   },
   "id": "a95eaa1142c4f4b8",
   "execution_count": 31
  },
  {
   "cell_type": "markdown",
   "source": [
    "**APKS analysis**"
   ],
   "metadata": {
    "collapsed": false
   },
   "id": "a71b37155d0389f5"
  },
  {
   "cell_type": "code",
   "outputs": [
    {
     "name": "stdout",
     "output_type": "stream",
     "text": [
      "Number of APKs in traffic logs: 5759\n",
      "Number of APKs with PII: 3478\n",
      "Number of APKs using anycast: 1669\n",
      "Number of APKs anycast with PII: 960\n"
     ]
    }
   ],
   "source": [
    "all_traffic_logs_df = pd.read_csv(TRAFFIC_LOGS_IP_CLASSIFIED_FILEPATH, sep=\",\")\n",
    "\n",
    "apks_total = all_traffic_logs_df[\"apk\"].unique().tolist()\n",
    "print(f\"Number of APKs in traffic logs: {len(apks_total)}\")\n",
    "\n",
    "apks_total_pii = all_traffic_logs_df.loc[\n",
    "    (all_traffic_logs_df[\"PII\"] != \"No-PII\") &\n",
    "    (all_traffic_logs_df[\"PII\"].notna())\n",
    "    ][\"apk\"].unique().tolist()\n",
    "print(f\"Number of APKs with PII: {len(apks_total_pii)}\")\n",
    "\n",
    "apks_anycast = all_traffic_logs_df.loc[\n",
    "    all_traffic_logs_df[\"ip_anycast\"]\n",
    "][\"apk\"].unique().tolist()\n",
    "print(f\"Number of APKs using anycast: {len(apks_anycast)}\")\n",
    "\n",
    "apks_anycast_pii = all_traffic_logs_df.loc[\n",
    "    (all_traffic_logs_df[\"ip_anycast\"]) &\n",
    "    (all_traffic_logs_df[\"PII\"] != \"No-PII\") &\n",
    "    (all_traffic_logs_df[\"PII\"].notna())\n",
    "    ][\"apk\"].unique().tolist()\n",
    "print(f\"Number of APKs anycast with PII: {len(apks_anycast_pii)}\")"
   ],
   "metadata": {
    "collapsed": false,
    "ExecuteTime": {
     "end_time": "2024-03-06T14:50:37.863808Z",
     "start_time": "2024-03-06T14:50:37.123570Z"
    }
   },
   "id": "76c72f39cb6c7d85",
   "execution_count": 32
  },
  {
   "cell_type": "markdown",
   "source": [
    "**Hosts Analysis**"
   ],
   "metadata": {
    "collapsed": false
   },
   "id": "c98ce9aa4f43b5d2"
  },
  {
   "cell_type": "code",
   "outputs": [
    {
     "name": "stdout",
     "output_type": "stream",
     "text": [
      "Number of hosts in traffic logs: 4738\n",
      "Number of hosts with PII: 966\n",
      "Number of hosts using anycast: 995\n",
      "Number of hosts anycast with PII: 201\n"
     ]
    }
   ],
   "source": [
    "all_traffic_logs_df = pd.read_csv(TRAFFIC_LOGS_IP_CLASSIFIED_FILEPATH, sep=\",\")\n",
    "\n",
    "hosts_total = all_traffic_logs_df[\"host\"].unique().tolist()\n",
    "print(f\"Number of hosts in traffic logs: {len(hosts_total)}\")\n",
    "\n",
    "hosts_total_pii = all_traffic_logs_df.loc[\n",
    "    (all_traffic_logs_df[\"PII\"] != \"No-PII\") &\n",
    "    (all_traffic_logs_df[\"PII\"].notna())\n",
    "    ][\"host\"].unique().tolist()\n",
    "print(f\"Number of hosts with PII: {len(hosts_total_pii)}\")\n",
    "\n",
    "hosts_anycast = all_traffic_logs_df.loc[\n",
    "    all_traffic_logs_df[\"ip_anycast\"]\n",
    "][\"host\"].unique().tolist()\n",
    "print(f\"Number of hosts using anycast: {len(hosts_anycast)}\")\n",
    "\n",
    "hosts_anycast_pii = all_traffic_logs_df.loc[\n",
    "    (all_traffic_logs_df[\"ip_anycast\"]) &\n",
    "    (all_traffic_logs_df[\"PII\"] != \"No-PII\") &\n",
    "    (all_traffic_logs_df[\"PII\"].notna())\n",
    "    ][\"host\"].unique().tolist()\n",
    "print(f\"Number of hosts anycast with PII: {len(hosts_anycast_pii)}\")"
   ],
   "metadata": {
    "collapsed": false,
    "ExecuteTime": {
     "end_time": "2024-03-06T14:53:12.721401Z",
     "start_time": "2024-03-06T14:53:12.065702Z"
    }
   },
   "id": "5a9bcccc70a378d",
   "execution_count": 33
  }
 ],
 "metadata": {
  "kernelspec": {
   "display_name": "Python 3",
   "language": "python",
   "name": "python3"
  },
  "language_info": {
   "codemirror_mode": {
    "name": "ipython",
    "version": 2
   },
   "file_extension": ".py",
   "mimetype": "text/x-python",
   "name": "python",
   "nbconvert_exporter": "python",
   "pygments_lexer": "ipython2",
   "version": "2.7.6"
  }
 },
 "nbformat": 4,
 "nbformat_minor": 5
}
