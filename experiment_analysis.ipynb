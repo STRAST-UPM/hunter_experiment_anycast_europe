{
 "cells": [
  {
   "cell_type": "markdown",
   "source": [
    "# Experiment Mesh Analysis\n"
   ],
   "metadata": {
    "collapsed": false
   },
   "id": "c1ecc4b83731736b"
  },
  {
   "cell_type": "code",
   "execution_count": 1,
   "outputs": [],
   "source": [
    "# external imports\n",
    "import pandas as pd\n",
    "from shapely import (\n",
    "    from_geojson\n",
    ")"
   ],
   "metadata": {
    "collapsed": false,
    "ExecuteTime": {
     "end_time": "2024-03-08T12:13:06.671048Z",
     "start_time": "2024-03-08T12:13:06.460216Z"
    }
   },
   "id": "c8df69fe46cac602"
  },
  {
   "cell_type": "code",
   "execution_count": 2,
   "outputs": [],
   "source": [
    "# internal imports\n",
    "from src.utils.common_functions import (\n",
    "    json_file_to_dict,\n",
    "    get_list_files_in_path,\n",
    ")\n",
    "from src.utils.constants import (\n",
    "    EEE_COUNTRIES_FILEPATH,\n",
    "    REPLICATION_PACKAGE_DIR,\n",
    "    TRAFFIC_LOGS_IP_CLASSIFIED_FILEPATH,\n",
    "    ANYCAST_PII_TRAFFIC_LOGS_FILEPATH,\n",
    "    APKS_METADATA_FILEPATH,\n",
    "    RESULTS_MODES,\n",
    "    IT_ANNOTATION_FILEPATH\n",
    ")"
   ],
   "metadata": {
    "collapsed": false,
    "ExecuteTime": {
     "end_time": "2024-03-08T12:13:06.674190Z",
     "start_time": "2024-03-08T12:13:06.671893Z"
    }
   },
   "id": "69d16f8da4f9071f"
  },
  {
   "cell_type": "code",
   "execution_count": 3,
   "outputs": [],
   "source": [
    "# Constants\n",
    "EEE_countries_set = set([country[\"alpha-2\"] for country in json_file_to_dict(EEE_COUNTRIES_FILEPATH)])"
   ],
   "metadata": {
    "collapsed": false,
    "ExecuteTime": {
     "end_time": "2024-03-08T12:13:06.693545Z",
     "start_time": "2024-03-08T12:13:06.674707Z"
    }
   },
   "id": "adb458e6157c0f69"
  },
  {
   "cell_type": "code",
   "execution_count": 4,
   "outputs": [],
   "source": [
    "# Analysis params\n",
    "DESTINATION_REPETITIONS_LIMIT = 1\n",
    "ANALYSIS_MODE=RESULTS_MODES[0]\n",
    "GENERATE_ROUTES_DATA=False"
   ],
   "metadata": {
    "collapsed": false,
    "ExecuteTime": {
     "end_time": "2024-03-08T12:13:06.704018Z",
     "start_time": "2024-03-08T12:13:06.694447Z"
    }
   },
   "id": "690c1391498feefb"
  },
  {
   "cell_type": "code",
   "execution_count": 5,
   "outputs": [],
   "source": [
    "# Filepaths variables\n",
    "EXPERIMENT_RESULTS_FOLDER = f\"{REPLICATION_PACKAGE_DIR}/experiment_results_{ANALYSIS_MODE}\"\n",
    "ANALYSIS_FOLDER = f\"{REPLICATION_PACKAGE_DIR}/analysis_{ANALYSIS_MODE}\"\n",
    "\n",
    "ROUTES_RESULTS_FILENAME = f\"{ANALYSIS_FOLDER}/routes_results_{ANALYSIS_MODE}.csv\"\n",
    "ROUTES_FREQUENCY_FILENAME = f\"{ANALYSIS_FOLDER}/routes_frequency_{ANALYSIS_MODE}.csv\"\n",
    "\n",
    "ANYCAST_PII_TRAFFIC_LOGS_ANALYSIS_FILEPATH = f\"{REPLICATION_PACKAGE_DIR}/analysis_{ANALYSIS_MODE}/Anycast_PII_Traffic_Logs_{ANALYSIS_MODE}.csv\"\n",
    "TRAFFIC_LOGS_IP_CLASSIFIED_ANALYSIS_FILEPATH = f\"{REPLICATION_PACKAGE_DIR}/analysis_{ANALYSIS_MODE}/Traffic_logs_10K_ip_classified_{ANALYSIS_MODE}.csv\""
   ],
   "metadata": {
    "collapsed": false,
    "ExecuteTime": {
     "end_time": "2024-03-08T12:13:06.715500Z",
     "start_time": "2024-03-08T12:13:06.705007Z"
    }
   },
   "id": "759dc69c48ceb4bd"
  },
  {
   "cell_type": "markdown",
   "source": [
    "## Enrichemnt of data and generation of datasets"
   ],
   "metadata": {
    "collapsed": false
   },
   "id": "50b5569c9c01bcd1"
  },
  {
   "cell_type": "markdown",
   "source": [
    "### Routes resume data extraction"
   ],
   "metadata": {
    "collapsed": false
   },
   "id": "cf4dbceceb44eff8"
  },
  {
   "cell_type": "markdown",
   "source": [
    "Generate a file with all the routes got as the result of the experiment execution"
   ],
   "metadata": {
    "collapsed": false
   },
   "id": "829bbc8293d73e11"
  },
  {
   "cell_type": "code",
   "execution_count": 6,
   "outputs": [],
   "source": [
    "# Auxiliary functions\n",
    "def get_probe_location(probe_id: int, origin_list: []) -> (float, float):\n",
    "    for origin in origin_list:\n",
    "        if probe_id == origin[\"probe_id\"]:\n",
    "            location = from_geojson(origin[\"location\"])\n",
    "            return location.y, location.x\n",
    "        else:\n",
    "            continue\n",
    "    return 0, 0\n",
    "\n",
    "def get_result_country_route(hunter_result: dict) -> dict:\n",
    "    probe_id = hunter_result[\"origin_id\"]\n",
    "    result_country = hunter_result[\"location_result\"][\"country\"]\n",
    "    probe_country = hunter_result[\"origin_country_code\"]\n",
    "\n",
    "    return {\n",
    "        \"origin_id\": probe_id,\n",
    "        \"origin_country\": probe_country,\n",
    "        \"result_country\": result_country\n",
    "    }\n",
    "\n",
    "# Data generation function\n",
    "def generate_routes_raw():\n",
    "    routes_raw_df = pd.DataFrame(\n",
    "        columns=[\n",
    "            \"target\", \"probe_id\", \n",
    "            \"origin_country\", \"origin_latitude\", \"origin_longitude\", \n",
    "            \"result_country\", \"result_latitude\", \"result_longitude\",\n",
    "            \"result_filename\", \"outside_EEE\"\n",
    "        ]\n",
    "    )\n",
    "    for result_filename in get_list_files_in_path(EXPERIMENT_RESULTS_FOLDER):\n",
    "        print(result_filename)\n",
    "        result = json_file_to_dict(f\"{EXPERIMENT_RESULTS_FOLDER}/{result_filename}\")\n",
    "        target = result[\"target\"]\n",
    "        origin_list = result[\"measurements\"][\"origin\"]\n",
    "        for hunter_result in result[\"hunter_results\"]:\n",
    "            route = get_result_country_route(hunter_result)\n",
    "            probe_id = hunter_result[\"origin_id\"]\n",
    "            origin_country = route[\"origin_country\"]\n",
    "            origin_latitude, origin_longitude = get_probe_location(probe_id, origin_list)\n",
    "            \n",
    "            result_country = route[\"result_country\"]\n",
    "            if len(hunter_result[\"location_result\"][\"airports_intersection\"]) == 1:\n",
    "                result_location = from_geojson(hunter_result[\"location_result\"][\"airports_intersection\"][0][\"location\"])\n",
    "                result_latitude = result_location.y\n",
    "                result_longitude = result_location.x\n",
    "            else:\n",
    "                result_latitude = 0\n",
    "                result_longitude = 0\n",
    "                \n",
    "            outside_eee = (result_country not in EEE_countries_set) and (result_country != \"Indeterminate\")\n",
    "                    \n",
    "            routes_raw_df = pd.concat(\n",
    "                [pd.DataFrame([[\n",
    "                    target, probe_id, \n",
    "                    origin_country, origin_latitude, origin_longitude, \n",
    "                    result_country, result_latitude, result_longitude,\n",
    "                    result_filename, outside_eee\n",
    "                ]], columns=routes_raw_df.columns), routes_raw_df], \n",
    "                ignore_index=True\n",
    "            )\n",
    "    # Sort and save\n",
    "    routes_raw_df.sort_values(by=[\"target\", \"origin_country\", \"result_country\"], inplace=True)\n",
    "    routes_raw_df.to_csv(ROUTES_RESULTS_FILENAME, sep=\",\", index=False)\n"
   ],
   "metadata": {
    "collapsed": false,
    "ExecuteTime": {
     "end_time": "2024-03-08T12:13:06.731411Z",
     "start_time": "2024-03-08T12:13:06.716789Z"
    }
   },
   "id": "3a4a5ff135ebc9cc"
  },
  {
   "cell_type": "markdown",
   "source": [
    "Aggregate and count routes repetitions"
   ],
   "metadata": {
    "collapsed": false
   },
   "id": "2905481c5a38b1ac"
  },
  {
   "cell_type": "code",
   "outputs": [],
   "source": [
    "# Data generation function\n",
    "def generate_routes_frequency_aggregation():\n",
    "    # Aggregate routes counting the repetitions\n",
    "    routes_frequency_df = pd.read_csv(ROUTES_RESULTS_FILENAME, sep=\",\")\n",
    "    routes_frequency_df = routes_frequency_df[[\"target\", \"origin_country\", \"result_country\"]]\n",
    "    routes_frequency_df = routes_frequency_df.value_counts(subset=['target', 'origin_country', 'result_country'])\n",
    "    routes_frequency_df.to_csv(ROUTES_FREQUENCY_FILENAME, sep=\",\")\n",
    "\n",
    "    # Include the info about outside the EEE\n",
    "    routes_frequency_df = pd.read_csv(ROUTES_FREQUENCY_FILENAME, sep=\",\")\n",
    "    routes_frequency_df[\"outside_EEE\"] = False\n",
    "    \n",
    "    for index, row in routes_frequency_df.iterrows():\n",
    "        result_country = row[\"result_country\"]\n",
    "        routes_frequency_df.loc[index, \"outside_EEE\"] = (result_country not in EEE_countries_set) and (result_country != \"Indeterminate\")\n",
    "    \n",
    "    routes_frequency_df.sort_values(by=[\"target\", \"origin_country\", \"result_country\"], inplace=True)\n",
    "    routes_frequency_df.to_csv(ROUTES_FREQUENCY_FILENAME, sep=\",\", index=False)"
   ],
   "metadata": {
    "collapsed": false,
    "ExecuteTime": {
     "end_time": "2024-03-08T12:13:06.747069Z",
     "start_time": "2024-03-08T12:13:06.732436Z"
    }
   },
   "id": "1ef13530479b1cbb",
   "execution_count": 7
  },
  {
   "cell_type": "markdown",
   "source": [
    "Introduce routes outside EEE and its count in the complete dataset WHAT DATASETS POPULATE????"
   ],
   "metadata": {
    "collapsed": false
   },
   "id": "b51ebb6a53d3489d"
  },
  {
   "cell_type": "code",
   "outputs": [],
   "source": [
    "# Dataset population function\n",
    "def populate_dataset_with_routes_results(dataframe: pd.DataFrame):\n",
    "    routes_valid_df = pd.read_csv(ROUTES_FREQUENCY_FILENAME, sep=\",\")\n",
    "    routes_valid_df = routes_valid_df.loc[\n",
    "        (routes_valid_df[\"outside_EEE\"] == True) & \n",
    "        (routes_valid_df[\"count\"] >= DESTINATION_REPETITIONS_LIMIT)\n",
    "    ]\n",
    "    \n",
    "    routes_valid_dict = {}\n",
    "    for index, row in routes_valid_df.iterrows():\n",
    "        target = row[\"target\"]\n",
    "        if target not in routes_valid_dict.keys():\n",
    "            routes_valid_dict[row[\"target\"]] = {\n",
    "                \"origins\": [],\n",
    "                \"destinations\": [],\n",
    "                \"count\": []\n",
    "            }\n",
    "        \n",
    "        routes_valid_dict[target][\"origins\"].append(row[\"origin_country\"])\n",
    "        routes_valid_dict[target][\"destinations\"].append(row[\"result_country\"])\n",
    "        routes_valid_dict[target][\"count\"].append(str(row[\"count\"]))\n",
    "    \n",
    "    # Charge routes in the complete dataset\n",
    "    dataframe[\"origins_transfers_outside_EEE\"] = \"\"\n",
    "    dataframe[\"destinations_transfers_outside_EEE\"] = \"\"\n",
    "    dataframe[\"frequency_transfers_outside_EEE\"] = \"\"\n",
    "    dataframe[\"outside_EEE\"] = False\n",
    "    \n",
    "    for target in routes_valid_dict.keys():\n",
    "        dataframe.loc[\n",
    "            (dataframe[\"ip_dest\"] == target), [\"origins_transfers_outside_EEE\"]\n",
    "        ] = str(routes_valid_dict[target][\"origins\"])\n",
    "        dataframe.loc[\n",
    "            (dataframe[\"ip_dest\"] == target), [\"destinations_transfers_outside_EEE\"]\n",
    "        ] = str(routes_valid_dict[target][\"destinations\"])\n",
    "        dataframe.loc[\n",
    "            (dataframe[\"ip_dest\"] == target), [\"frequency_transfers_outside_EEE\"]\n",
    "        ] = str(routes_valid_dict[target][\"count\"])\n",
    "        dataframe.loc[\n",
    "            (dataframe[\"ip_dest\"] == target), [\"outside_EEE\"]\n",
    "        ] = True\n"
   ],
   "metadata": {
    "collapsed": false,
    "ExecuteTime": {
     "end_time": "2024-03-08T12:13:06.762112Z",
     "start_time": "2024-03-08T12:13:06.747908Z"
    }
   },
   "id": "c5fdd5566a17a165",
   "execution_count": 8
  },
  {
   "cell_type": "markdown",
   "source": [
    "Populate the datasets with metadata info"
   ],
   "metadata": {
    "collapsed": false
   },
   "id": "f4e872e6e4f5f347"
  },
  {
   "cell_type": "code",
   "outputs": [],
   "source": [
    "def populate_dataset_with_apks_metadata(dataframe: pd.DataFrame):\n",
    "    apk_metadata_df = pd.read_csv(APKS_METADATA_FILEPATH, sep=\",\")\n",
    "    \n",
    "    for index, row in apk_metadata_df.iterrows():\n",
    "        dataframe.loc[\n",
    "            dataframe[\"apk\"] == row[\"apk\"], \"android_rating\"\n",
    "        ] = row[\"android_rating\"]\n",
    "    \n",
    "        dataframe.loc[\n",
    "            dataframe[\"apk\"] == row[\"apk\"], \"android_numDownloads\"\n",
    "        ] = row[\"android_numDownloads\"]\n",
    "    \n",
    "        dataframe.loc[\n",
    "            dataframe[\"apk\"] == row[\"apk\"], \"android_category\"\n",
    "        ] = row[\"android_category\"]\n"
   ],
   "metadata": {
    "collapsed": false,
    "ExecuteTime": {
     "end_time": "2024-03-08T12:13:06.777500Z",
     "start_time": "2024-03-08T12:13:06.762862Z"
    }
   },
   "id": "6b1c5cf65806854e",
   "execution_count": 9
  },
  {
   "cell_type": "markdown",
   "source": [
    "Populate the datasets with the info extrated from every policy"
   ],
   "metadata": {
    "collapsed": false
   },
   "id": "cce1d5fd8c0c621b"
  },
  {
   "cell_type": "code",
   "outputs": [],
   "source": [
    "def populate_dataset_with_policy_extracted_info(dataframe: pd.DataFrame):\n",
    "    it_annotation_results_df = pd.read_csv(IT_ANNOTATION_FILEPATH, sep=\",\")\n",
    "    \n",
    "    # Meter cambio para asegurar contenido de la fila countries\n",
    "    \n",
    "    it_annotation_results_df.drop_duplicates([\"apk\", \"countries\"], inplace=True)\n",
    "    for index, row in it_annotation_results_df.iterrows():\n",
    "        dataframe.loc[\n",
    "            dataframe[\"apk\"] == row[\"apk\"], \"countries_mentioned_by_policy\"\n",
    "        ] = row[\"countries\"]\n",
    "        dataframe.loc[\n",
    "            dataframe[\"apk\"] == row[\"apk\"], \"it_mentioned_by_policy\"\n",
    "        ] = row[\"transfer\"]\n",
    "        dataframe.loc[\n",
    "            dataframe[\"apk\"] == row[\"apk\"], \"adequacy_decision_by_policy\"\n",
    "        ] = row[\"adequacy_decision\"]\n"
   ],
   "metadata": {
    "collapsed": false,
    "ExecuteTime": {
     "end_time": "2024-03-08T12:13:06.792678Z",
     "start_time": "2024-03-08T12:13:06.778716Z"
    }
   },
   "id": "4b79f08eb4c84797",
   "execution_count": 10
  },
  {
   "cell_type": "markdown",
   "source": [
    "Execute the enrichment of data and generation"
   ],
   "metadata": {
    "collapsed": false
   },
   "id": "8f23ffaf42779f8b"
  },
  {
   "cell_type": "code",
   "execution_count": 11,
   "outputs": [],
   "source": [
    "# Charge the dataframes to be used\n",
    "traffic_logs_ip_classified = pd.read_csv(TRAFFIC_LOGS_IP_CLASSIFIED_FILEPATH, sep=\",\")\n",
    "anycast_pii_traffic_logs_df = pd.read_csv(ANYCAST_PII_TRAFFIC_LOGS_FILEPATH, sep=\",\")\n",
    "\n",
    "# Because is a long process and is only necessary to run once I include the condition\n",
    "if GENERATE_ROUTES_DATA: \n",
    "    # Generate the results\n",
    "    generate_routes_raw()\n",
    "    generate_routes_frequency_aggregation()\n",
    "    \n",
    "# Populate datasets\n",
    "# Populate with routes \n",
    "populate_dataset_with_routes_results(traffic_logs_ip_classified)\n",
    "populate_dataset_with_routes_results(anycast_pii_traffic_logs_df)\n",
    "# Populate with metadata\n",
    "populate_dataset_with_apks_metadata(traffic_logs_ip_classified)\n",
    "populate_dataset_with_apks_metadata(anycast_pii_traffic_logs_df)\n",
    "# Populate with the privacy policy extracted data\n",
    "populate_dataset_with_policy_extracted_info(traffic_logs_ip_classified)\n",
    "populate_dataset_with_policy_extracted_info(anycast_pii_traffic_logs_df)\n",
    "\n",
    "# Save the datasets populated\n",
    "traffic_logs_ip_classified.to_csv(TRAFFIC_LOGS_IP_CLASSIFIED_ANALYSIS_FILEPATH, sep=\",\", index=False)\n",
    "anycast_pii_traffic_logs_df.to_csv(ANYCAST_PII_TRAFFIC_LOGS_ANALYSIS_FILEPATH, sep=\",\", index=False)"
   ],
   "metadata": {
    "collapsed": false,
    "ExecuteTime": {
     "end_time": "2024-03-08T12:13:59.021122Z",
     "start_time": "2024-03-08T12:13:06.793432Z"
    }
   },
   "id": "ab9bacd90bf3ec16"
  },
  {
   "cell_type": "markdown",
   "source": [
    "## Analysis questions\n",
    "\n",
    "Answers to the questions needed for the article\n",
    "\n",
    "Acronyms:\n",
    "- PII = Personal Identificable Information"
   ],
   "metadata": {
    "collapsed": false
   },
   "id": "1bd3273fca7aeeaa"
  },
  {
   "cell_type": "markdown",
   "source": [
    "**IPs analysis**"
   ],
   "metadata": {
    "collapsed": false
   },
   "id": "88555225610e9127"
  },
  {
   "cell_type": "code",
   "outputs": [
    {
     "name": "stdout",
     "output_type": "stream",
     "text": [
      "Number of IPs in traffic logs: 5647\n",
      "Number of IPs with PII: 1807\n",
      "Number of IPs anycast: 991\n",
      "Number of IPs anycast with PII: 200\n"
     ]
    }
   ],
   "source": [
    "all_traffic_logs_df = pd.read_csv(TRAFFIC_LOGS_IP_CLASSIFIED_FILEPATH, sep=\",\")\n",
    "\n",
    "ips_total = all_traffic_logs_df[\"ip_dest\"].unique().tolist()\n",
    "print(f\"Number of IPs in traffic logs: {len(ips_total)}\")\n",
    "\n",
    "ips_total_pii = all_traffic_logs_df.loc[\n",
    "    (all_traffic_logs_df[\"PII\"] != \"No-PII\") &\n",
    "    (all_traffic_logs_df[\"PII\"].notna())\n",
    "][\"ip_dest\"].unique().tolist()\n",
    "print(f\"Number of IPs with PII: {len(ips_total_pii)}\")\n",
    "\n",
    "ips_anycast = all_traffic_logs_df.loc[\n",
    "    all_traffic_logs_df[\"ip_anycast\"]\n",
    "][\"ip_dest\"].unique().tolist()\n",
    "print(f\"Number of IPs anycast: {len(ips_anycast)}\")\n",
    "\n",
    "ips_anycast_pii = all_traffic_logs_df.loc[\n",
    "    (all_traffic_logs_df[\"ip_anycast\"]) &\n",
    "    (all_traffic_logs_df[\"PII\"] != \"No-PII\") &\n",
    "    (all_traffic_logs_df[\"PII\"].notna())\n",
    "][\"ip_dest\"].unique().tolist()\n",
    "print(f\"Number of IPs anycast with PII: {len(ips_anycast_pii)}\")"
   ],
   "metadata": {
    "collapsed": false,
    "ExecuteTime": {
     "end_time": "2024-03-08T12:13:59.679957Z",
     "start_time": "2024-03-08T12:13:59.022053Z"
    }
   },
   "id": "a95eaa1142c4f4b8",
   "execution_count": 12
  },
  {
   "cell_type": "markdown",
   "source": [
    "**APKS analysis**"
   ],
   "metadata": {
    "collapsed": false
   },
   "id": "a71b37155d0389f5"
  },
  {
   "cell_type": "code",
   "outputs": [
    {
     "name": "stdout",
     "output_type": "stream",
     "text": [
      "Number of APKs in traffic logs: 5759\n",
      "Number of APKs with PII: 3478\n",
      "Number of APKs using anycast: 1669\n",
      "Number of APKs anycast with PII: 960\n"
     ]
    }
   ],
   "source": [
    "all_traffic_logs_df = pd.read_csv(TRAFFIC_LOGS_IP_CLASSIFIED_FILEPATH, sep=\",\")\n",
    "\n",
    "apks_total = all_traffic_logs_df[\"apk\"].unique().tolist()\n",
    "print(f\"Number of APKs in traffic logs: {len(apks_total)}\")\n",
    "\n",
    "apks_total_pii = all_traffic_logs_df.loc[\n",
    "    (all_traffic_logs_df[\"PII\"] != \"No-PII\") &\n",
    "    (all_traffic_logs_df[\"PII\"].notna())\n",
    "    ][\"apk\"].unique().tolist()\n",
    "print(f\"Number of APKs with PII: {len(apks_total_pii)}\")\n",
    "\n",
    "apks_anycast = all_traffic_logs_df.loc[\n",
    "    all_traffic_logs_df[\"ip_anycast\"]\n",
    "][\"apk\"].unique().tolist()\n",
    "print(f\"Number of APKs using anycast: {len(apks_anycast)}\")\n",
    "\n",
    "apks_anycast_pii = all_traffic_logs_df.loc[\n",
    "    (all_traffic_logs_df[\"ip_anycast\"]) &\n",
    "    (all_traffic_logs_df[\"PII\"] != \"No-PII\") &\n",
    "    (all_traffic_logs_df[\"PII\"].notna())\n",
    "    ][\"apk\"].unique().tolist()\n",
    "print(f\"Number of APKs anycast with PII: {len(apks_anycast_pii)}\")"
   ],
   "metadata": {
    "collapsed": false,
    "ExecuteTime": {
     "end_time": "2024-03-08T12:14:00.345533Z",
     "start_time": "2024-03-08T12:13:59.680896Z"
    }
   },
   "id": "76c72f39cb6c7d85",
   "execution_count": 13
  },
  {
   "cell_type": "markdown",
   "source": [
    "**Hosts Analysis**"
   ],
   "metadata": {
    "collapsed": false
   },
   "id": "c98ce9aa4f43b5d2"
  },
  {
   "cell_type": "code",
   "outputs": [
    {
     "name": "stdout",
     "output_type": "stream",
     "text": [
      "Number of hosts in traffic logs: 4738\n",
      "Number of hosts with PII: 966\n",
      "Number of hosts using anycast: 995\n",
      "Number of hosts anycast with PII: 201\n"
     ]
    }
   ],
   "source": [
    "all_traffic_logs_df = pd.read_csv(TRAFFIC_LOGS_IP_CLASSIFIED_FILEPATH, sep=\",\")\n",
    "\n",
    "hosts_total = all_traffic_logs_df[\"host\"].unique().tolist()\n",
    "print(f\"Number of hosts in traffic logs: {len(hosts_total)}\")\n",
    "\n",
    "hosts_total_pii = all_traffic_logs_df.loc[\n",
    "    (all_traffic_logs_df[\"PII\"] != \"No-PII\") &\n",
    "    (all_traffic_logs_df[\"PII\"].notna())\n",
    "    ][\"host\"].unique().tolist()\n",
    "print(f\"Number of hosts with PII: {len(hosts_total_pii)}\")\n",
    "\n",
    "hosts_anycast = all_traffic_logs_df.loc[\n",
    "    all_traffic_logs_df[\"ip_anycast\"]\n",
    "][\"host\"].unique().tolist()\n",
    "print(f\"Number of hosts using anycast: {len(hosts_anycast)}\")\n",
    "\n",
    "hosts_anycast_pii = all_traffic_logs_df.loc[\n",
    "    (all_traffic_logs_df[\"ip_anycast\"]) &\n",
    "    (all_traffic_logs_df[\"PII\"] != \"No-PII\") &\n",
    "    (all_traffic_logs_df[\"PII\"].notna())\n",
    "    ][\"host\"].unique().tolist()\n",
    "print(f\"Number of hosts anycast with PII: {len(hosts_anycast_pii)}\")"
   ],
   "metadata": {
    "collapsed": false,
    "ExecuteTime": {
     "end_time": "2024-03-08T12:14:01.007413Z",
     "start_time": "2024-03-08T12:14:00.346586Z"
    }
   },
   "id": "5a9bcccc70a378d",
   "execution_count": 14
  }
 ],
 "metadata": {
  "kernelspec": {
   "display_name": "Python 3",
   "language": "python",
   "name": "python3"
  },
  "language_info": {
   "codemirror_mode": {
    "name": "ipython",
    "version": 2
   },
   "file_extension": ".py",
   "mimetype": "text/x-python",
   "name": "python",
   "nbconvert_exporter": "python",
   "pygments_lexer": "ipython2",
   "version": "2.7.6"
  }
 },
 "nbformat": 4,
 "nbformat_minor": 5
}
