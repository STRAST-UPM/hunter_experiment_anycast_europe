{
 "cells": [
  {
   "cell_type": "markdown",
   "source": [
    "# Validations"
   ],
   "metadata": {
    "collapsed": false
   },
   "id": "c6b2c572825421b3"
  },
  {
   "cell_type": "markdown",
   "source": [
    "## Anycast IPs previous to target validation\n",
    "\n",
    "Check if the ips previous to target for every target if the are identified as anycast"
   ],
   "metadata": {
    "collapsed": false
   },
   "id": "442899811c528653"
  },
  {
   "cell_type": "code",
   "outputs": [],
   "source": [
    "import ipinfo\n",
    "import pandas as pd\n",
    "from ast import literal_eval\n",
    "\n",
    "from src.utils.common_functions import (\n",
    "    json_file_to_dict,\n",
    "    dict_to_json_file\n",
    ")\n",
    "from src.utils.constants import (\n",
    "    KEYS_FILEPATH,\n",
    "    REPLICATION_PACKAGE_DIR,\n",
    "    RESULTS_MODES\n",
    ")"
   ],
   "metadata": {
    "collapsed": false
   },
   "id": "a87128e917ac6acd"
  },
  {
   "cell_type": "code",
   "outputs": [],
   "source": [
    "ANALYSIS_MODE=RESULTS_MODES[0]\n",
    "\n",
    "ANALYSIS_FOLDER = f\"{REPLICATION_PACKAGE_DIR}/analysis_{ANALYSIS_MODE}\"\n",
    "ROUTES_RESULTS_FILENAME = f\"{ANALYSIS_FOLDER}/routes_results_{ANALYSIS_MODE}.csv\"\n",
    "IPS_PREVIOUS_TO_TARGET_CLASSIFIED_FILENAME = f\"{REPLICATION_PACKAGE_DIR}/{ANALYSIS_FOLDER}/ips_previous_to_target_classified_{ANALYSIS_MODE}.json\""
   ],
   "metadata": {
    "collapsed": false
   },
   "id": "a4633f3ff2fb1030"
  },
  {
   "cell_type": "code",
   "outputs": [],
   "source": [
    "def is_ip_anycast_request(ip_to_check: str):\n",
    "    access_token = json_file_to_dict(KEYS_FILEPATH)[\"ipinfo_token\"]\n",
    "    handler = ipinfo.getHandler(access_token)\n",
    "    details = handler.getDetails(ip_to_check)\n",
    "    #print(json.dumps(details.all, indent=4))\n",
    "        \n",
    "    try:\n",
    "        anycast = details.anycast\n",
    "    except:\n",
    "        anycast = False\n",
    "        \n",
    "    return anycast"
   ],
   "metadata": {
    "collapsed": false
   },
   "id": "bf954d082bc25aef"
  },
  {
   "cell_type": "code",
   "outputs": [],
   "source": [
    "routes_df = pd.read_csv(ROUTES_RESULTS_FILENAME)\n",
    "ips_previous_to_target = set()\n",
    "for index, row in routes_df.iterrows():\n",
    "    ips_route = set(literal_eval(routes_df[\"ips_previous_to_target\"]))\n",
    "    ips_previous_to_target.update(ips_route)\n",
    "\n",
    "try:\n",
    "    ips_previous_to_target_classified: dict[str:bool] = json_file_to_dict(IPS_PREVIOUS_TO_TARGET_CLASSIFIED_FILENAME)\n",
    "except:\n",
    "    ips_previous_to_target_classified: dict[str:bool] = {}\n",
    "    \n",
    "for ip in ips_previous_to_target:\n",
    "    if ip in ips_previous_to_target_classified.keys():\n",
    "        continue\n",
    "    is_anycast = is_ip_anycast_request(ip)\n",
    "    ips_previous_to_target_classified[ip] = is_anycast\n",
    "    \n",
    "    dict_to_json_file(\n",
    "        ips_previous_to_target_classified,\n",
    "        IPS_PREVIOUS_TO_TARGET_CLASSIFIED_FILENAME\n",
    "    )\n"
   ],
   "metadata": {
    "collapsed": false
   },
   "id": "2fc665405894cf6c"
  }
 ],
 "metadata": {
  "kernelspec": {
   "display_name": "Python 3",
   "language": "python",
   "name": "python3"
  },
  "language_info": {
   "codemirror_mode": {
    "name": "ipython",
    "version": 2
   },
   "file_extension": ".py",
   "mimetype": "text/x-python",
   "name": "python",
   "nbconvert_exporter": "python",
   "pygments_lexer": "ipython2",
   "version": "2.7.6"
  }
 },
 "nbformat": 4,
 "nbformat_minor": 5
}
