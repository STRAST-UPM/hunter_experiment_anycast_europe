{
 "cells": [
  {
   "cell_type": "markdown",
   "source": [
    "# Validations"
   ],
   "metadata": {
    "collapsed": false
   },
   "id": "c6b2c572825421b3"
  },
  {
   "cell_type": "markdown",
   "source": [
    "## Anycast IPs previous to target validation\n",
    "\n",
    "Check if the ips previous to target for every target if the are identified as anycast"
   ],
   "metadata": {
    "collapsed": false
   },
   "id": "442899811c528653"
  },
  {
   "cell_type": "code",
   "outputs": [],
   "source": [],
   "metadata": {
    "collapsed": false
   },
   "id": "bf954d082bc25aef"
  }
 ],
 "metadata": {
  "kernelspec": {
   "display_name": "Python 3",
   "language": "python",
   "name": "python3"
  },
  "language_info": {
   "codemirror_mode": {
    "name": "ipython",
    "version": 2
   },
   "file_extension": ".py",
   "mimetype": "text/x-python",
   "name": "python",
   "nbconvert_exporter": "python",
   "pygments_lexer": "ipython2",
   "version": "2.7.6"
  }
 },
 "nbformat": 4,
 "nbformat_minor": 5
}
